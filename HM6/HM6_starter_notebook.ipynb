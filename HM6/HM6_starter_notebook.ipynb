{
 "cells": [
  {
   "metadata": {
    "id": "EWJ-hiw10L1e"
   },
   "cell_type": "markdown",
   "source": "## Transmission Economic Assessment with PyPSA-USA\n"
  },
  {
   "metadata": {},
   "cell_type": "markdown",
   "source": "[![Open In Colab](https://colab.research.google.com/assets/colab-badge.svg)](https://colab.research.google.com/github/Stanford-Sustainable-Systems-Lab/CEE_272R_spring_2025/blob/main/HM6/HM6_starter_notebook.ipynb)"
  },
  {
   "metadata": {
    "id": "nWVTmfPtaA3F"
   },
   "cell_type": "markdown",
   "source": [
    "CEE 272R Spring 2024 Homework 6 \\\\\n",
    "Assigned on 5/15/25, due at 11:59pm on Thursday, 5/22 \\\\\n",
    "Written by Kamran Tehranchi & edited by Sonia, Mateus, and Fletcher\n",
    "\n",
    "This assignment is set up to run in Google Colab, although you may install PyPSA and change file locations to run locally if you wish.\n",
    "\n",
    "When you submit to Gradescope, please download the export the notebook, including all code outputs, as a pdf.\n",
    "\n",
    "You should fill in all code blocks labeled \"#TODO\"."
   ]
  },
  {
   "metadata": {
    "id": "yDaxhp1z0L1g"
   },
   "cell_type": "markdown",
   "source": [
    "You are given a simplified network of the PyPSA-USA WECC network with the following characteristics:\n",
    "- 3 buses\n",
    "- 3 lines\n",
    "- 167 Generators (MW), listed below by fuel type\n",
    "```\n",
    "    CCGT          56915.400\n",
    "    OCGT          35345.100\n",
    "    coal          24395.000\n",
    "    geothermal     3914.200\n",
    "    hydro         52844.738\n",
    "    nuclear        7732.600\n",
    "    oil            1100.300\n",
    "    onwind        28557.900\n",
    "    solar         29108.000\n",
    "```\n",
    "- Peak Load (MW):\n",
    "```\n",
    "    CA    49420.22\n",
    "    PNW   17931.67\n",
    "    SW    30590.69\n",
    "```\n",
    "- Time-series data for 12 months Jan - Dec 2019\n",
    "\n",
    "Let's first install PyPSA and import the WECC network so we can visualize it. Run the next few code blocks to generate a plot of the nodes and existing lines."
   ]
  },
  {
   "metadata": {
    "id": "QJNYtY390NtQ"
   },
   "cell_type": "markdown",
   "source": "Install dependencies"
  },
  {
   "metadata": {
    "colab": {
     "base_uri": "https://localhost:8080/"
    },
    "id": "bf479Q6o0PHu",
    "outputId": "5117dd8a-13b9-4dcc-de2e-1262d5ff1cbc",
    "ExecuteTime": {
     "end_time": "2025-05-13T01:37:49.241530Z",
     "start_time": "2025-05-13T01:37:06.254367Z"
    }
   },
   "cell_type": "code",
   "outputs": [
    {
     "name": "stdout",
     "output_type": "stream",
     "text": [
      "Collecting pypsa\r\n",
      "  Downloading pypsa-0.34.1-py3-none-any.whl (207 kB)\r\n",
      "\u001B[2K     \u001B[90m━━━━━━━━━━━━━━━━━━━━━━━━━━━━━━━━━━━━━━━\u001B[0m \u001B[32m207.7/207.7 kB\u001B[0m \u001B[31m7.6 MB/s\u001B[0m eta \u001B[36m0:00:00\u001B[0m\r\n",
      "\u001B[?25hCollecting highspy\r\n",
      "  Downloading highspy-1.10.0-cp310-cp310-macosx_11_0_arm64.whl (1.9 MB)\r\n",
      "\u001B[2K     \u001B[90m━━━━━━━━━━━━━━━━━━━━━━━━━━━━━━━━━━━━━━━━\u001B[0m \u001B[32m1.9/1.9 MB\u001B[0m \u001B[31m13.9 MB/s\u001B[0m eta \u001B[36m0:00:00\u001B[0ma \u001B[36m0:00:01\u001B[0m\r\n",
      "\u001B[?25hCollecting matplotlib\r\n",
      "  Downloading matplotlib-3.10.3-cp310-cp310-macosx_11_0_arm64.whl (8.0 MB)\r\n",
      "\u001B[2K     \u001B[90m━━━━━━━━━━━━━━━━━━━━━━━━━━━━━━━━━━━━━━━━\u001B[0m \u001B[32m8.0/8.0 MB\u001B[0m \u001B[31m14.0 MB/s\u001B[0m eta \u001B[36m0:00:00\u001B[0m00:01\u001B[0m00:01\u001B[0m\r\n",
      "\u001B[?25hCollecting cartopy\r\n",
      "  Downloading Cartopy-0.24.1-cp310-cp310-macosx_11_0_arm64.whl (11.0 MB)\r\n",
      "\u001B[2K     \u001B[90m━━━━━━━━━━━━━━━━━━━━━━━━━━━━━━━━━━━━━━━━\u001B[0m \u001B[32m11.0/11.0 MB\u001B[0m \u001B[31m12.9 MB/s\u001B[0m eta \u001B[36m0:00:00\u001B[0m00:01\u001B[0m00:01\u001B[0m\r\n",
      "\u001B[?25hCollecting xarray==2023.9.0\r\n",
      "  Downloading xarray-2023.9.0-py3-none-any.whl (1.0 MB)\r\n",
      "\u001B[2K     \u001B[90m━━━━━━━━━━━━━━━━━━━━━━━━━━━━━━━━━━━━━━━━\u001B[0m \u001B[32m1.0/1.0 MB\u001B[0m \u001B[31m13.2 MB/s\u001B[0m eta \u001B[36m0:00:00\u001B[0m00:01\u001B[0m00:01\u001B[0m\r\n",
      "\u001B[?25hRequirement already satisfied: numpy>=1.21 in /Users/mateusgheorghe/Desktop/codes-mateus/mateus-repos/Stanford_PhD/stanford_phd_env1/lib/python3.10/site-packages (from xarray==2023.9.0) (1.24.2)\r\n",
      "Requirement already satisfied: packaging>=21.3 in /Users/mateusgheorghe/Desktop/codes-mateus/mateus-repos/Stanford_PhD/stanford_phd_env1/lib/python3.10/site-packages (from xarray==2023.9.0) (23.0)\r\n",
      "Collecting pandas>=1.4\r\n",
      "  Downloading pandas-2.2.3-cp310-cp310-macosx_11_0_arm64.whl (11.3 MB)\r\n",
      "\u001B[2K     \u001B[90m━━━━━━━━━━━━━━━━━━━━━━━━━━━━━━━━━━━━━━━━\u001B[0m \u001B[32m11.3/11.3 MB\u001B[0m \u001B[31m14.5 MB/s\u001B[0m eta \u001B[36m0:00:00\u001B[0m00:01\u001B[0m00:01\u001B[0m\r\n",
      "\u001B[?25hCollecting geopandas>=0.9\r\n",
      "  Downloading geopandas-1.0.1-py3-none-any.whl (323 kB)\r\n",
      "\u001B[2K     \u001B[90m━━━━━━━━━━━━━━━━━━━━━━━━━━━━━━━━━━━━━━\u001B[0m \u001B[32m323.6/323.6 kB\u001B[0m \u001B[31m21.6 MB/s\u001B[0m eta \u001B[36m0:00:00\u001B[0m\r\n",
      "\u001B[?25hCollecting scipy\r\n",
      "  Downloading scipy-1.15.3-cp310-cp310-macosx_14_0_arm64.whl (22.4 MB)\r\n",
      "\u001B[2K     \u001B[90m━━━━━━━━━━━━━━━━━━━━━━━━━━━━━━━━━━━━━━━━\u001B[0m \u001B[32m22.4/22.4 MB\u001B[0m \u001B[31m13.9 MB/s\u001B[0m eta \u001B[36m0:00:00\u001B[0m00:01\u001B[0m00:01\u001B[0m\r\n",
      "\u001B[?25hCollecting validators\r\n",
      "  Downloading validators-0.35.0-py3-none-any.whl (44 kB)\r\n",
      "\u001B[2K     \u001B[90m━━━━━━━━━━━━━━━━━━━━━━━━━━━━━━━━━━━━━━━━\u001B[0m \u001B[32m44.7/44.7 kB\u001B[0m \u001B[31m4.5 MB/s\u001B[0m eta \u001B[36m0:00:00\u001B[0m\r\n",
      "\u001B[?25hCollecting networkx>=2\r\n",
      "  Downloading networkx-3.4.2-py3-none-any.whl (1.7 MB)\r\n",
      "\u001B[2K     \u001B[90m━━━━━━━━━━━━━━━━━━━━━━━━━━━━━━━━━━━━━━━━\u001B[0m \u001B[32m1.7/1.7 MB\u001B[0m \u001B[31m14.6 MB/s\u001B[0m eta \u001B[36m0:00:00\u001B[0ma \u001B[36m0:00:01\u001B[0m\r\n",
      "\u001B[?25hCollecting deprecation\r\n",
      "  Downloading deprecation-2.1.0-py2.py3-none-any.whl (11 kB)\r\n",
      "Collecting netcdf4\r\n",
      "  Downloading netCDF4-1.7.2-cp310-cp310-macosx_14_0_arm64.whl (2.5 MB)\r\n",
      "\u001B[2K     \u001B[90m━━━━━━━━━━━━━━━━━━━━━━━━━━━━━━━━━━━━━━━━\u001B[0m \u001B[32m2.5/2.5 MB\u001B[0m \u001B[31m14.3 MB/s\u001B[0m eta \u001B[36m0:00:00\u001B[0ma \u001B[36m0:00:01\u001B[0m\r\n",
      "\u001B[?25hCollecting shapely<2.1\r\n",
      "  Downloading shapely-2.0.7-cp310-cp310-macosx_11_0_arm64.whl (1.3 MB)\r\n",
      "\u001B[2K     \u001B[90m━━━━━━━━━━━━━━━━━━━━━━━━━━━━━━━━━━━━━━━━\u001B[0m \u001B[32m1.3/1.3 MB\u001B[0m \u001B[31m13.2 MB/s\u001B[0m eta \u001B[36m0:00:00\u001B[0ma \u001B[36m0:00:01\u001B[0m\r\n",
      "\u001B[?25hCollecting linopy>=0.4\r\n",
      "  Downloading linopy-0.5.5-py3-none-any.whl (95 kB)\r\n",
      "\u001B[2K     \u001B[90m━━━━━━━━━━━━━━━━━━━━━━━━━━━━━━━━━━━━━━━━\u001B[0m \u001B[32m95.8/95.8 kB\u001B[0m \u001B[31m7.5 MB/s\u001B[0m eta \u001B[36m0:00:00\u001B[0m\r\n",
      "\u001B[?25hCollecting seaborn\r\n",
      "  Downloading seaborn-0.13.2-py3-none-any.whl (294 kB)\r\n",
      "\u001B[2K     \u001B[90m━━━━━━━━━━━━━━━━━━━━━━━━━━━━━━━━━━━━━━\u001B[0m \u001B[32m294.9/294.9 kB\u001B[0m \u001B[31m12.2 MB/s\u001B[0m eta \u001B[36m0:00:00\u001B[0m\r\n",
      "\u001B[?25hCollecting contourpy>=1.0.1\r\n",
      "  Downloading contourpy-1.3.2-cp310-cp310-macosx_11_0_arm64.whl (253 kB)\r\n",
      "\u001B[2K     \u001B[90m━━━━━━━━━━━━━━━━━━━━━━━━━━━━━━━━━━━━━━\u001B[0m \u001B[32m253.4/253.4 kB\u001B[0m \u001B[31m12.1 MB/s\u001B[0m eta \u001B[36m0:00:00\u001B[0m\r\n",
      "\u001B[?25hCollecting kiwisolver>=1.3.1\r\n",
      "  Downloading kiwisolver-1.4.8-cp310-cp310-macosx_11_0_arm64.whl (65 kB)\r\n",
      "\u001B[2K     \u001B[90m━━━━━━━━━━━━━━━━━━━━━━━━━━━━━━━━━━━━━━━━\u001B[0m \u001B[32m65.4/65.4 kB\u001B[0m \u001B[31m2.9 MB/s\u001B[0m eta \u001B[36m0:00:00\u001B[0m\r\n",
      "\u001B[?25hCollecting pyparsing>=2.3.1\r\n",
      "  Downloading pyparsing-3.2.3-py3-none-any.whl (111 kB)\r\n",
      "\u001B[2K     \u001B[90m━━━━━━━━━━━━━━━━━━━━━━━━━━━━━━━━━━━━━━━\u001B[0m \u001B[32m111.1/111.1 kB\u001B[0m \u001B[31m8.1 MB/s\u001B[0m eta \u001B[36m0:00:00\u001B[0m\r\n",
      "\u001B[?25hRequirement already satisfied: python-dateutil>=2.7 in /Users/mateusgheorghe/Desktop/codes-mateus/mateus-repos/Stanford_PhD/stanford_phd_env1/lib/python3.10/site-packages (from matplotlib) (2.8.2)\r\n",
      "Collecting pillow>=8\r\n",
      "  Downloading pillow-11.2.1-cp310-cp310-macosx_11_0_arm64.whl (3.0 MB)\r\n",
      "\u001B[2K     \u001B[90m━━━━━━━━━━━━━━━━━━━━━━━━━━━━━━━━━━━━━━━━\u001B[0m \u001B[32m3.0/3.0 MB\u001B[0m \u001B[31m13.7 MB/s\u001B[0m eta \u001B[36m0:00:00\u001B[0ma \u001B[36m0:00:01\u001B[0m\r\n",
      "\u001B[?25hCollecting fonttools>=4.22.0\r\n",
      "  Downloading fonttools-4.58.0-cp310-cp310-macosx_10_9_universal2.whl (2.7 MB)\r\n",
      "\u001B[2K     \u001B[90m━━━━━━━━━━━━━━━━━━━━━━━━━━━━━━━━━━━━━━━━\u001B[0m \u001B[32m2.7/2.7 MB\u001B[0m \u001B[31m14.3 MB/s\u001B[0m eta \u001B[36m0:00:00\u001B[0ma \u001B[36m0:00:01\u001B[0m\r\n",
      "\u001B[?25hCollecting cycler>=0.10\r\n",
      "  Using cached cycler-0.12.1-py3-none-any.whl (8.3 kB)\r\n",
      "Collecting pyshp>=2.3\r\n",
      "  Downloading pyshp-2.3.1-py2.py3-none-any.whl (46 kB)\r\n",
      "\u001B[2K     \u001B[90m━━━━━━━━━━━━━━━━━━━━━━━━━━━━━━━━━━━━━━━━\u001B[0m \u001B[32m46.5/46.5 kB\u001B[0m \u001B[31m4.5 MB/s\u001B[0m eta \u001B[36m0:00:00\u001B[0m\r\n",
      "\u001B[?25hCollecting pyproj>=3.3.1\r\n",
      "  Downloading pyproj-3.7.1-cp310-cp310-macosx_14_0_arm64.whl (4.7 MB)\r\n",
      "\u001B[2K     \u001B[90m━━━━━━━━━━━━━━━━━━━━━━━━━━━━━━━━━━━━━━━━\u001B[0m \u001B[32m4.7/4.7 MB\u001B[0m \u001B[31m14.2 MB/s\u001B[0m eta \u001B[36m0:00:00\u001B[0ma \u001B[36m0:00:01\u001B[0m\r\n",
      "\u001B[?25hCollecting pyogrio>=0.7.2\r\n",
      "  Downloading pyogrio-0.11.0-cp310-cp310-macosx_12_0_arm64.whl (19.5 MB)\r\n",
      "\u001B[2K     \u001B[90m━━━━━━━━━━━━━━━━━━━━━━━━━━━━━━━━━━━━━━━━\u001B[0m \u001B[32m19.5/19.5 MB\u001B[0m \u001B[31m14.2 MB/s\u001B[0m eta \u001B[36m0:00:00\u001B[0m00:01\u001B[0m00:01\u001B[0m\r\n",
      "\u001B[?25hCollecting linopy>=0.4\r\n",
      "  Downloading linopy-0.5.4-py3-none-any.whl (95 kB)\r\n",
      "\u001B[2K     \u001B[90m━━━━━━━━━━━━━━━━━━━━━━━━━━━━━━━━━━━━━━━━\u001B[0m \u001B[32m95.8/95.8 kB\u001B[0m \u001B[31m7.1 MB/s\u001B[0m eta \u001B[36m0:00:00\u001B[0m\r\n",
      "\u001B[?25h  Downloading linopy-0.5.3-py3-none-any.whl (95 kB)\r\n",
      "\u001B[2K     \u001B[90m━━━━━━━━━━━━━━━━━━━━━━━━━━━━━━━━━━━━━━━━\u001B[0m \u001B[32m95.3/95.3 kB\u001B[0m \u001B[31m9.4 MB/s\u001B[0m eta \u001B[36m0:00:00\u001B[0m\r\n",
      "\u001B[?25h  Downloading linopy-0.5.2-py3-none-any.whl (94 kB)\r\n",
      "\u001B[2K     \u001B[90m━━━━━━━━━━━━━━━━━━━━━━━━━━━━━━━━━━━━━━━━\u001B[0m \u001B[32m94.7/94.7 kB\u001B[0m \u001B[31m6.7 MB/s\u001B[0m eta \u001B[36m0:00:00\u001B[0m\r\n",
      "\u001B[?25h  Downloading linopy-0.5.1-py3-none-any.whl (94 kB)\r\n",
      "\u001B[2K     \u001B[90m━━━━━━━━━━━━━━━━━━━━━━━━━━━━━━━━━━━━━━━━\u001B[0m \u001B[32m94.7/94.7 kB\u001B[0m \u001B[31m11.5 MB/s\u001B[0m eta \u001B[36m0:00:00\u001B[0m\r\n",
      "\u001B[?25h  Downloading linopy-0.5.0-py3-none-any.whl (92 kB)\r\n",
      "\u001B[2K     \u001B[90m━━━━━━━━━━━━━━━━━━━━━━━━━━━━━━━━━━━━━━━━\u001B[0m \u001B[32m92.8/92.8 kB\u001B[0m \u001B[31m7.8 MB/s\u001B[0m eta \u001B[36m0:00:00\u001B[0m\r\n",
      "\u001B[?25h  Downloading linopy-0.4.4-py3-none-any.whl (90 kB)\r\n",
      "\u001B[2K     \u001B[90m━━━━━━━━━━━━━━━━━━━━━━━━━━━━━━━━━━━━━━━━\u001B[0m \u001B[32m90.2/90.2 kB\u001B[0m \u001B[31m7.6 MB/s\u001B[0m eta \u001B[36m0:00:00\u001B[0m\r\n",
      "\u001B[?25h  Downloading linopy-0.4.1-py3-none-any.whl (89 kB)\r\n",
      "\u001B[2K     \u001B[90m━━━━━━━━━━━━━━━━━━━━━━━━━━━━━━━━━━━━━━━━\u001B[0m \u001B[32m89.8/89.8 kB\u001B[0m \u001B[31m6.7 MB/s\u001B[0m eta \u001B[36m0:00:00\u001B[0m\r\n",
      "\u001B[?25h  Downloading linopy-0.4.0-py3-none-any.whl (89 kB)\r\n",
      "\u001B[2K     \u001B[90m━━━━━━━━━━━━━━━━━━━━━━━━━━━━━━━━━━━━━━━━\u001B[0m \u001B[32m89.6/89.6 kB\u001B[0m \u001B[31m3.2 MB/s\u001B[0m eta \u001B[36m0:00:00\u001B[0m\r\n",
      "\u001B[?25hINFO: pip is looking at multiple versions of kiwisolver to determine which version is compatible with other requirements. This could take a while.\r\n",
      "Collecting kiwisolver>=1.3.1\r\n",
      "  Downloading kiwisolver-1.4.7-cp310-cp310-macosx_11_0_arm64.whl (64 kB)\r\n",
      "\u001B[2K     \u001B[90m━━━━━━━━━━━━━━━━━━━━━━━━━━━━━━━━━━━━━━━━\u001B[0m \u001B[32m64.3/64.3 kB\u001B[0m \u001B[31m6.1 MB/s\u001B[0m eta \u001B[36m0:00:00\u001B[0m\r\n",
      "\u001B[?25hINFO: pip is looking at multiple versions of geopandas to determine which version is compatible with other requirements. This could take a while.\r\n",
      "Collecting geopandas>=0.9\r\n",
      "  Downloading geopandas-1.0.0-py3-none-any.whl (323 kB)\r\n",
      "\u001B[2K     \u001B[90m━━━━━━━━━━━━━━━━━━━━━━━━━━━━━━━━━━━━━━\u001B[0m \u001B[32m323.4/323.4 kB\u001B[0m \u001B[31m11.9 MB/s\u001B[0m eta \u001B[36m0:00:00\u001B[0m\r\n",
      "\u001B[?25hINFO: pip is looking at multiple versions of fonttools to determine which version is compatible with other requirements. This could take a while.\r\n",
      "Collecting fonttools>=4.22.0\r\n",
      "  Downloading fonttools-4.57.0-cp310-cp310-macosx_10_9_universal2.whl (2.8 MB)\r\n",
      "\u001B[2K     \u001B[90m━━━━━━━━━━━━━━━━━━━━━━━━━━━━━━━━━━━━━━━━\u001B[0m \u001B[32m2.8/2.8 MB\u001B[0m \u001B[31m13.1 MB/s\u001B[0m eta \u001B[36m0:00:00\u001B[0m00:01\u001B[0m00:01\u001B[0m\r\n",
      "\u001B[?25hINFO: pip is looking at multiple versions of cycler to determine which version is compatible with other requirements. This could take a while.\r\n",
      "Collecting cycler>=0.10\r\n",
      "  Downloading cycler-0.12.0-py3-none-any.whl (8.2 kB)\r\n",
      "INFO: pip is looking at multiple versions of contourpy to determine which version is compatible with other requirements. This could take a while.\r\n",
      "Collecting contourpy>=1.0.1\r\n",
      "  Downloading contourpy-1.3.1-cp310-cp310-macosx_11_0_arm64.whl (253 kB)\r\n",
      "\u001B[2K     \u001B[90m━━━━━━━━━━━━━━━━━━━━━━━━━━━━━━━━━━━━━━━\u001B[0m \u001B[32m253.3/253.3 kB\u001B[0m \u001B[31m8.0 MB/s\u001B[0m eta \u001B[36m0:00:00\u001B[0m\r\n",
      "\u001B[?25hINFO: pip is looking at multiple versions of cartopy to determine which version is compatible with other requirements. This could take a while.\r\n",
      "Collecting cartopy\r\n",
      "  Downloading Cartopy-0.24.0-cp310-cp310-macosx_11_0_arm64.whl (11.0 MB)\r\n",
      "\u001B[2K     \u001B[90m━━━━━━━━━━━━━━━━━━━━━━━━━━━━━━━━━━━━━━━━\u001B[0m \u001B[32m11.0/11.0 MB\u001B[0m \u001B[31m9.8 MB/s\u001B[0m eta \u001B[36m0:00:00\u001B[0m:00:01\u001B[0m00:01\u001B[0m\r\n",
      "\u001B[?25hINFO: pip is looking at multiple versions of matplotlib to determine which version is compatible with other requirements. This could take a while.\r\n",
      "Collecting matplotlib\r\n",
      "  Downloading matplotlib-3.10.1-cp310-cp310-macosx_11_0_arm64.whl (8.0 MB)\r\n",
      "\u001B[2K     \u001B[90m━━━━━━━━━━━━━━━━━━━━━━━━━━━━━━━━━━━━━━━━\u001B[0m \u001B[32m8.0/8.0 MB\u001B[0m \u001B[31m13.9 MB/s\u001B[0m eta \u001B[36m0:00:00\u001B[0m00:01\u001B[0m00:01\u001B[0m\r\n",
      "\u001B[?25hINFO: pip is looking at multiple versions of highspy to determine which version is compatible with other requirements. This could take a while.\r\n",
      "Collecting highspy\r\n",
      "  Downloading highspy-1.9.0-cp310-cp310-macosx_11_0_arm64.whl (1.8 MB)\r\n",
      "\u001B[2K     \u001B[90m━━━━━━━━━━━━━━━━━━━━━━━━━━━━━━━━━━━━━━━━\u001B[0m \u001B[32m1.8/1.8 MB\u001B[0m \u001B[31m16.3 MB/s\u001B[0m eta \u001B[36m0:00:00\u001B[0ma \u001B[36m0:00:01\u001B[0m\r\n",
      "\u001B[?25hINFO: pip is looking at multiple versions of pypsa to determine which version is compatible with other requirements. This could take a while.\r\n",
      "Collecting pypsa\r\n",
      "  Downloading pypsa-0.34.0-py3-none-any.whl (206 kB)\r\n",
      "\u001B[2K     \u001B[90m━━━━━━━━━━━━━━━━━━━━━━━━━━━━━━━━━━━━━━━\u001B[0m \u001B[32m206.2/206.2 kB\u001B[0m \u001B[31m7.9 MB/s\u001B[0m eta \u001B[36m0:00:00\u001B[0m\r\n",
      "\u001B[?25h  Downloading pypsa-0.33.2-py3-none-any.whl (173 kB)\r\n",
      "\u001B[2K     \u001B[90m━━━━━━━━━━━━━━━━━━━━━━━━━━━━━━━━━━━━━━━\u001B[0m \u001B[32m174.0/174.0 kB\u001B[0m \u001B[31m7.8 MB/s\u001B[0m eta \u001B[36m0:00:00\u001B[0m\r\n",
      "\u001B[?25h  Downloading pypsa-0.33.1-py3-none-any.whl (173 kB)\r\n",
      "\u001B[2K     \u001B[90m━━━━━━━━━━━━━━━━━━━━━━━━━━━━━━━━━━━━━━━\u001B[0m \u001B[32m174.0/174.0 kB\u001B[0m \u001B[31m2.1 MB/s\u001B[0m eta \u001B[36m0:00:00\u001B[0ma \u001B[36m0:00:01\u001B[0m\r\n",
      "\u001B[?25h  Downloading pypsa-0.33.0-py3-none-any.whl (173 kB)\r\n",
      "\u001B[2K     \u001B[90m━━━━━━━━━━━━━━━━━━━━━━━━━━━━━━━━━━━━━━\u001B[0m \u001B[32m173.5/173.5 kB\u001B[0m \u001B[31m10.0 MB/s\u001B[0m eta \u001B[36m0:00:00\u001B[0m\r\n",
      "\u001B[?25h  Downloading pypsa-0.32.2-py3-none-any.whl (155 kB)\r\n",
      "\u001B[2K     \u001B[90m━━━━━━━━━━━━━━━━━━━━━━━━━━━━━━━━━━━━━━━\u001B[0m \u001B[32m155.1/155.1 kB\u001B[0m \u001B[31m7.5 MB/s\u001B[0m eta \u001B[36m0:00:00\u001B[0m\r\n",
      "\u001B[?25h  Downloading pypsa-0.32.1-py3-none-any.whl (155 kB)\r\n",
      "\u001B[2K     \u001B[90m━━━━━━━━━━━━━━━━━━━━━━━━━━━━━━━━━━━━━━━\u001B[0m \u001B[32m155.1/155.1 kB\u001B[0m \u001B[31m9.4 MB/s\u001B[0m eta \u001B[36m0:00:00\u001B[0m\r\n",
      "\u001B[?25h  Downloading pypsa-0.32.0-py3-none-any.whl (154 kB)\r\n",
      "\u001B[2K     \u001B[90m━━━━━━━━━━━━━━━━━━━━━━━━━━━━━━━━━━━━━━\u001B[0m \u001B[32m154.8/154.8 kB\u001B[0m \u001B[31m11.0 MB/s\u001B[0m eta \u001B[36m0:00:00\u001B[0m\r\n",
      "\u001B[?25hINFO: pip is looking at multiple versions of pypsa to determine which version is compatible with other requirements. This could take a while.\r\n",
      "  Downloading pypsa-0.31.2-py3-none-any.whl (144 kB)\r\n",
      "\u001B[2K     \u001B[90m━━━━━━━━━━━━━━━━━━━━━━━━━━━━━━━━━━━━━\u001B[0m \u001B[32m144.6/144.6 kB\u001B[0m \u001B[31m765.7 kB/s\u001B[0m eta \u001B[36m0:00:00\u001B[0ma \u001B[36m0:00:01\u001B[0m\r\n",
      "\u001B[?25hCollecting tables\r\n",
      "  Using cached tables-3.10.1-cp310-cp310-macosx_11_0_arm64.whl (5.5 MB)\r\n",
      "Collecting linopy>=0.3.12\r\n",
      "  Downloading linopy-0.3.15-py3-none-any.whl (85 kB)\r\n",
      "\u001B[2K     \u001B[90m━━━━━━━━━━━━━━━━━━━━━━━━━━━━━━━━━━━━━━━━\u001B[0m \u001B[32m85.7/85.7 kB\u001B[0m \u001B[31m8.2 MB/s\u001B[0m eta \u001B[36m0:00:00\u001B[0m\r\n",
      "\u001B[?25h  Downloading linopy-0.3.14-py3-none-any.whl (85 kB)\r\n",
      "\u001B[2K     \u001B[90m━━━━━━━━━━━━━━━━━━━━━━━━━━━━━━━━━━━━━━━━\u001B[0m \u001B[32m85.5/85.5 kB\u001B[0m \u001B[31m5.3 MB/s\u001B[0m eta \u001B[36m0:00:00\u001B[0m\r\n",
      "\u001B[?25h  Downloading linopy-0.3.13-py3-none-any.whl (86 kB)\r\n",
      "\u001B[2K     \u001B[90m━━━━━━━━━━━━━━━━━━━━━━━━━━━━━━━━━━━━━━━━\u001B[0m \u001B[32m86.6/86.6 kB\u001B[0m \u001B[31m7.8 MB/s\u001B[0m eta \u001B[36m0:00:00\u001B[0m\r\n",
      "\u001B[?25h  Downloading linopy-0.3.12-py3-none-any.whl (86 kB)\r\n",
      "\u001B[2K     \u001B[90m━━━━━━━━━━━━━━━━━━━━━━━━━━━━━━━━━━━━━━━━\u001B[0m \u001B[32m86.4/86.4 kB\u001B[0m \u001B[31m6.1 MB/s\u001B[0m eta \u001B[36m0:00:00\u001B[0m\r\n",
      "\u001B[?25hCollecting numexpr\r\n",
      "  Downloading numexpr-2.10.2-cp310-cp310-macosx_11_0_arm64.whl (134 kB)\r\n",
      "\u001B[2K     \u001B[90m━━━━━━━━━━━━━━━━━━━━━━━━━━━━━━━━━━━━━━━\u001B[0m \u001B[32m134.8/134.8 kB\u001B[0m \u001B[31m8.3 MB/s\u001B[0m eta \u001B[36m0:00:00\u001B[0m\r\n",
      "\u001B[?25hCollecting polars\r\n",
      "  Downloading polars-1.29.0-cp39-abi3-macosx_11_0_arm64.whl (31.1 MB)\r\n",
      "\u001B[2K     \u001B[90m━━━━━━━━━━━━━━━━━━━━━━━━━━━━━━━━━━━━━━━━\u001B[0m \u001B[32m31.1/31.1 MB\u001B[0m \u001B[31m11.6 MB/s\u001B[0m eta \u001B[36m0:00:00\u001B[0m00:01\u001B[0m00:01\u001B[0m\r\n",
      "\u001B[?25hCollecting bottleneck\r\n",
      "  Downloading Bottleneck-1.4.2-cp310-cp310-macosx_11_0_arm64.whl (98 kB)\r\n",
      "\u001B[2K     \u001B[90m━━━━━━━━━━━━━━━━━━━━━━━━━━━━━━━━━━━━━━━━\u001B[0m \u001B[32m98.6/98.6 kB\u001B[0m \u001B[31m5.3 MB/s\u001B[0m eta \u001B[36m0:00:00\u001B[0m\r\n",
      "\u001B[?25hCollecting dask>=0.18.0\r\n",
      "  Downloading dask-2025.4.1-py3-none-any.whl (1.5 MB)\r\n",
      "\u001B[2K     \u001B[90m━━━━━━━━━━━━━━━━━━━━━━━━━━━━━━━━━━━━━━━━\u001B[0m \u001B[32m1.5/1.5 MB\u001B[0m \u001B[31m7.6 MB/s\u001B[0m eta \u001B[36m0:00:00\u001B[0m00:01\u001B[0m00:01\u001B[0m\r\n",
      "\u001B[?25hCollecting toolz\r\n",
      "  Downloading toolz-1.0.0-py3-none-any.whl (56 kB)\r\n",
      "\u001B[2K     \u001B[90m━━━━━━━━━━━━━━━━━━━━━━━━━━━━━━━━━━━━━━━━\u001B[0m \u001B[32m56.4/56.4 kB\u001B[0m \u001B[31m3.9 MB/s\u001B[0m eta \u001B[36m0:00:00\u001B[0m\r\n",
      "\u001B[?25hCollecting tqdm\r\n",
      "  Downloading tqdm-4.67.1-py3-none-any.whl (78 kB)\r\n",
      "\u001B[2K     \u001B[90m━━━━━━━━━━━━━━━━━━━━━━━━━━━━━━━━━━━━━━━━\u001B[0m \u001B[32m78.5/78.5 kB\u001B[0m \u001B[31m6.4 MB/s\u001B[0m eta \u001B[36m0:00:00\u001B[0m\r\n",
      "\u001B[?25hCollecting shapely>=1.8\r\n",
      "  Downloading shapely-2.1.0-cp310-cp310-macosx_11_0_arm64.whl (1.6 MB)\r\n",
      "\u001B[2K     \u001B[90m━━━━━━━━━━━━━━━━━━━━━━━━━━━━━━━━━━━━━━━━\u001B[0m \u001B[32m1.6/1.6 MB\u001B[0m \u001B[31m8.7 MB/s\u001B[0m eta \u001B[36m0:00:00\u001B[0m00:01\u001B[0m00:01\u001B[0mm\r\n",
      "\u001B[?25hCollecting pytz>=2020.1\r\n",
      "  Downloading pytz-2025.2-py2.py3-none-any.whl (509 kB)\r\n",
      "\u001B[2K     \u001B[90m━━━━━━━━━━━━━━━━━━━━━━━━━━━━━━━━━━━━━━━\u001B[0m \u001B[32m509.2/509.2 kB\u001B[0m \u001B[31m9.1 MB/s\u001B[0m eta \u001B[36m0:00:00\u001B[0ma \u001B[36m0:00:01\u001B[0m\r\n",
      "\u001B[?25hCollecting tzdata>=2022.7\r\n",
      "  Downloading tzdata-2025.2-py2.py3-none-any.whl (347 kB)\r\n",
      "\u001B[2K     \u001B[90m━━━━━━━━━━━━━━━━━━━━━━━━━━━━━━━━━━━━━━━\u001B[0m \u001B[32m347.8/347.8 kB\u001B[0m \u001B[31m9.5 MB/s\u001B[0m eta \u001B[36m0:00:00\u001B[0m\r\n",
      "\u001B[?25hRequirement already satisfied: certifi in /Users/mateusgheorghe/Desktop/codes-mateus/mateus-repos/Stanford_PhD/stanford_phd_env1/lib/python3.10/site-packages (from pyproj>=3.3.1->cartopy) (2025.4.26)\r\n",
      "Requirement already satisfied: six>=1.5 in /Users/mateusgheorghe/Desktop/codes-mateus/mateus-repos/Stanford_PhD/stanford_phd_env1/lib/python3.10/site-packages (from python-dateutil>=2.7->matplotlib) (1.16.0)\r\n",
      "Collecting cftime\r\n",
      "  Downloading cftime-1.6.4.post1-cp310-cp310-macosx_11_0_arm64.whl (213 kB)\r\n",
      "\u001B[2K     \u001B[90m━━━━━━━━━━━━━━━━━━━━━━━━━━━━━━━━━━━━━━━\u001B[0m \u001B[32m213.9/213.9 kB\u001B[0m \u001B[31m9.7 MB/s\u001B[0m eta \u001B[36m0:00:00\u001B[0m\r\n",
      "\u001B[?25hCollecting py-cpuinfo\r\n",
      "  Using cached py_cpuinfo-9.0.0-py3-none-any.whl (22 kB)\r\n",
      "Collecting blosc2>=2.3.0\r\n",
      "  Downloading blosc2-3.3.2-cp310-cp310-macosx_11_0_arm64.whl (3.4 MB)\r\n",
      "\u001B[2K     \u001B[90m━━━━━━━━━━━━━━━━━━━━━━━━━━━━━━━━━━━━━━━━\u001B[0m \u001B[32m3.4/3.4 MB\u001B[0m \u001B[31m10.7 MB/s\u001B[0m eta \u001B[36m0:00:00\u001B[0m \u001B[36m0:00:01\u001B[0mm\r\n",
      "\u001B[?25hRequirement already satisfied: typing-extensions>=4.4.0 in /Users/mateusgheorghe/Desktop/codes-mateus/mateus-repos/Stanford_PhD/stanford_phd_env1/lib/python3.10/site-packages (from tables->pypsa) (4.13.2)\r\n",
      "Collecting msgpack\r\n",
      "  Using cached msgpack-1.1.0-cp310-cp310-macosx_11_0_arm64.whl (81 kB)\r\n",
      "Collecting numpy>=1.21\r\n",
      "  Using cached numpy-1.26.4-cp310-cp310-macosx_11_0_arm64.whl (14.0 MB)\r\n",
      "Requirement already satisfied: platformdirs in /Users/mateusgheorghe/Desktop/codes-mateus/mateus-repos/Stanford_PhD/stanford_phd_env1/lib/python3.10/site-packages (from blosc2>=2.3.0->tables->pypsa) (3.2.0)\r\n",
      "Requirement already satisfied: requests in /Users/mateusgheorghe/Desktop/codes-mateus/mateus-repos/Stanford_PhD/stanford_phd_env1/lib/python3.10/site-packages (from blosc2>=2.3.0->tables->pypsa) (2.32.3)\r\n",
      "Collecting ndindex\r\n",
      "  Using cached ndindex-1.9.2-cp310-cp310-macosx_11_0_arm64.whl (162 kB)\r\n",
      "Collecting fsspec>=2021.09.0\r\n",
      "  Downloading fsspec-2025.3.2-py3-none-any.whl (194 kB)\r\n",
      "\u001B[2K     \u001B[90m━━━━━━━━━━━━━━━━━━━━━━━━━━━━━━━━━━━━━━━\u001B[0m \u001B[32m194.4/194.4 kB\u001B[0m \u001B[31m8.5 MB/s\u001B[0m eta \u001B[36m0:00:00\u001B[0m\r\n",
      "\u001B[?25hCollecting importlib_metadata>=4.13.0\r\n",
      "  Downloading importlib_metadata-8.7.0-py3-none-any.whl (27 kB)\r\n",
      "Collecting partd>=1.4.0\r\n",
      "  Downloading partd-1.4.2-py3-none-any.whl (18 kB)\r\n",
      "Collecting click>=8.1\r\n",
      "  Downloading click-8.2.0-py3-none-any.whl (102 kB)\r\n",
      "\u001B[2K     \u001B[90m━━━━━━━━━━━━━━━━━━━━━━━━━━━━━━━━━━━━━\u001B[0m \u001B[32m102.2/102.2 kB\u001B[0m \u001B[31m384.3 kB/s\u001B[0m eta \u001B[36m0:00:00\u001B[0ma \u001B[36m0:00:01\u001B[0m\r\n",
      "\u001B[?25hRequirement already satisfied: pyyaml>=5.3.1 in /Users/mateusgheorghe/Desktop/codes-mateus/mateus-repos/Stanford_PhD/stanford_phd_env1/lib/python3.10/site-packages (from dask>=0.18.0->linopy>=0.3.12->pypsa) (6.0.2)\r\n",
      "Collecting cloudpickle>=3.0.0\r\n",
      "  Downloading cloudpickle-3.1.1-py3-none-any.whl (20 kB)\r\n",
      "Collecting zipp>=3.20\r\n",
      "  Downloading zipp-3.21.0-py3-none-any.whl (9.6 kB)\r\n",
      "Collecting locket\r\n",
      "  Using cached locket-1.0.0-py2.py3-none-any.whl (4.4 kB)\r\n",
      "Requirement already satisfied: charset-normalizer<4,>=2 in /Users/mateusgheorghe/Desktop/codes-mateus/mateus-repos/Stanford_PhD/stanford_phd_env1/lib/python3.10/site-packages (from requests->blosc2>=2.3.0->tables->pypsa) (3.4.2)\r\n",
      "Requirement already satisfied: idna<4,>=2.5 in /Users/mateusgheorghe/Desktop/codes-mateus/mateus-repos/Stanford_PhD/stanford_phd_env1/lib/python3.10/site-packages (from requests->blosc2>=2.3.0->tables->pypsa) (3.10)\r\n",
      "Requirement already satisfied: urllib3<3,>=1.21.1 in /Users/mateusgheorghe/Desktop/codes-mateus/mateus-repos/Stanford_PhD/stanford_phd_env1/lib/python3.10/site-packages (from requests->blosc2>=2.3.0->tables->pypsa) (2.4.0)\r\n",
      "Installing collected packages: pytz, py-cpuinfo, zipp, validators, tzdata, tqdm, toolz, pyshp, pyproj, pyparsing, polars, pillow, numpy, networkx, ndindex, msgpack, locket, kiwisolver, fsspec, fonttools, deprecation, cycler, cloudpickle, click, shapely, scipy, pyogrio, partd, pandas, numexpr, importlib_metadata, highspy, contourpy, cftime, bottleneck, xarray, netcdf4, matplotlib, geopandas, dask, blosc2, tables, linopy, cartopy, pypsa\r\n",
      "  Attempting uninstall: numpy\r\n",
      "    Found existing installation: numpy 1.24.2\r\n",
      "    Uninstalling numpy-1.24.2:\r\n",
      "      Successfully uninstalled numpy-1.24.2\r\n",
      "Successfully installed blosc2-3.3.2 bottleneck-1.4.2 cartopy-0.24.1 cftime-1.6.4.post1 click-8.2.0 cloudpickle-3.1.1 contourpy-1.3.2 cycler-0.12.1 dask-2025.4.1 deprecation-2.1.0 fonttools-4.58.0 fsspec-2025.3.2 geopandas-1.0.1 highspy-1.10.0 importlib_metadata-8.7.0 kiwisolver-1.4.8 linopy-0.3.12 locket-1.0.0 matplotlib-3.10.3 msgpack-1.1.0 ndindex-1.9.2 netcdf4-1.7.2 networkx-3.4.2 numexpr-2.10.2 numpy-1.26.4 pandas-2.2.3 partd-1.4.2 pillow-11.2.1 polars-1.29.0 py-cpuinfo-9.0.0 pyogrio-0.11.0 pyparsing-3.2.3 pyproj-3.7.1 pypsa-0.31.2 pyshp-2.3.1 pytz-2025.2 scipy-1.15.3 shapely-2.1.0 tables-3.10.1 toolz-1.0.0 tqdm-4.67.1 tzdata-2025.2 validators-0.35.0 xarray-2023.9.0 zipp-3.21.0\r\n",
      "\r\n",
      "\u001B[1m[\u001B[0m\u001B[34;49mnotice\u001B[0m\u001B[1;39;49m]\u001B[0m\u001B[39;49m A new release of pip is available: \u001B[0m\u001B[31;49m23.0.1\u001B[0m\u001B[39;49m -> \u001B[0m\u001B[32;49m25.1.1\u001B[0m\r\n",
      "\u001B[1m[\u001B[0m\u001B[34;49mnotice\u001B[0m\u001B[1;39;49m]\u001B[0m\u001B[39;49m To update, run: \u001B[0m\u001B[32;49mpip install --upgrade pip\u001B[0m\r\n"
     ]
    }
   ],
   "execution_count": 1,
   "source": "# !pip install pypsa highspy matplotlib cartopy xarray==2023.9.0"
  },
  {
   "metadata": {
    "colab": {
     "base_uri": "https://localhost:8080/"
    },
    "id": "oxyLDtgi2ios",
    "outputId": "e19f46f4-83be-4975-a0d6-99f31d34b977",
    "ExecuteTime": {
     "end_time": "2025-05-13T01:38:34.064271Z",
     "start_time": "2025-05-13T01:38:34.061622Z"
    }
   },
   "cell_type": "code",
   "outputs": [],
   "execution_count": 3,
   "source": [
    "# from google.colab import drive\n",
    "# drive.mount('/content/drive')"
   ]
  },
  {
   "metadata": {
    "id": "xH8Zhd4x0L1h"
   },
   "cell_type": "markdown",
   "source": "Import the network"
  },
  {
   "metadata": {
    "colab": {
     "base_uri": "https://localhost:8080/"
    },
    "id": "6uMnNmCZ0L1i",
    "outputId": "095137e0-55b9-405d-e9a0-1bcbac4bf086",
    "ExecuteTime": {
     "end_time": "2025-05-13T01:46:46.924866Z",
     "start_time": "2025-05-13T01:46:46.617750Z"
    }
   },
   "cell_type": "code",
   "outputs": [
    {
     "ename": "ModuleNotFoundError",
     "evalue": "No module named 'xarray.namedarray'",
     "output_type": "error",
     "traceback": [
      "\u001B[0;31m---------------------------------------------------------------------------\u001B[0m",
      "\u001B[0;31mModuleNotFoundError\u001B[0m                       Traceback (most recent call last)",
      "Cell \u001B[0;32mIn[10], line 1\u001B[0m\n\u001B[0;32m----> 1\u001B[0m \u001B[38;5;28;01mimport\u001B[39;00m \u001B[38;5;21;01mpypsa\u001B[39;00m\n\u001B[1;32m      2\u001B[0m \u001B[38;5;28;01mimport\u001B[39;00m \u001B[38;5;21;01mmatplotlib\u001B[39;00m\u001B[38;5;21;01m.\u001B[39;00m\u001B[38;5;21;01mpyplot\u001B[39;00m \u001B[38;5;28;01mas\u001B[39;00m \u001B[38;5;21;01mplt\u001B[39;00m\n\u001B[1;32m      3\u001B[0m \u001B[38;5;66;03m## Download the file 'wecc_homework6.nc' and upload it to the 'files' folder in Google Colab\u001B[39;00m\n",
      "File \u001B[0;32m~/Desktop/codes-mateus/mateus-repos/Stanford_PhD/stanford_phd_env1/lib/python3.10/site-packages/pypsa/__init__.py:18\u001B[0m\n\u001B[1;32m     15\u001B[0m \u001B[38;5;28;01mimport\u001B[39;00m \u001B[38;5;21;01mre\u001B[39;00m\n\u001B[1;32m     16\u001B[0m \u001B[38;5;28;01mfrom\u001B[39;00m \u001B[38;5;21;01mimportlib\u001B[39;00m\u001B[38;5;21;01m.\u001B[39;00m\u001B[38;5;21;01mmetadata\u001B[39;00m \u001B[38;5;28;01mimport\u001B[39;00m version\n\u001B[0;32m---> 18\u001B[0m \u001B[38;5;28;01mfrom\u001B[39;00m \u001B[38;5;21;01mpypsa\u001B[39;00m \u001B[38;5;28;01mimport\u001B[39;00m (\n\u001B[1;32m     19\u001B[0m     clustering,\n\u001B[1;32m     20\u001B[0m     components,\n\u001B[1;32m     21\u001B[0m     contingency,\n\u001B[1;32m     22\u001B[0m     descriptors,\n\u001B[1;32m     23\u001B[0m     examples,\n\u001B[1;32m     24\u001B[0m     geo,\n\u001B[1;32m     25\u001B[0m     io,\n\u001B[1;32m     26\u001B[0m     optimization,\n\u001B[1;32m     27\u001B[0m     pf,\n\u001B[1;32m     28\u001B[0m     plot,\n\u001B[1;32m     29\u001B[0m     statistics,\n\u001B[1;32m     30\u001B[0m )\n\u001B[1;32m     31\u001B[0m \u001B[38;5;28;01mfrom\u001B[39;00m \u001B[38;5;21;01mpypsa\u001B[39;00m\u001B[38;5;21;01m.\u001B[39;00m\u001B[38;5;21;01mcomponents\u001B[39;00m \u001B[38;5;28;01mimport\u001B[39;00m Network, SubNetwork\n\u001B[1;32m     33\u001B[0m \u001B[38;5;66;03m# e.g. \"0.17.1\" or \"0.17.1.dev4+ga3890dc0\" (if installed from git)\u001B[39;00m\n",
      "File \u001B[0;32m~/Desktop/codes-mateus/mateus-repos/Stanford_PhD/stanford_phd_env1/lib/python3.10/site-packages/pypsa/components.py:70\u001B[0m\n\u001B[1;32m     54\u001B[0m \u001B[38;5;28;01mfrom\u001B[39;00m \u001B[38;5;21;01mpypsa\u001B[39;00m\u001B[38;5;21;01m.\u001B[39;00m\u001B[38;5;21;01mgraph\u001B[39;00m \u001B[38;5;28;01mimport\u001B[39;00m adjacency_matrix, graph, incidence_matrix\n\u001B[1;32m     55\u001B[0m \u001B[38;5;28;01mfrom\u001B[39;00m \u001B[38;5;21;01mpypsa\u001B[39;00m\u001B[38;5;21;01m.\u001B[39;00m\u001B[38;5;21;01mio\u001B[39;00m \u001B[38;5;28;01mimport\u001B[39;00m (\n\u001B[1;32m     56\u001B[0m     _import_components_from_df,\n\u001B[1;32m     57\u001B[0m     _import_series_from_df,\n\u001B[0;32m   (...)\u001B[0m\n\u001B[1;32m     68\u001B[0m     merge,\n\u001B[1;32m     69\u001B[0m )\n\u001B[0;32m---> 70\u001B[0m \u001B[38;5;28;01mfrom\u001B[39;00m \u001B[38;5;21;01mpypsa\u001B[39;00m\u001B[38;5;21;01m.\u001B[39;00m\u001B[38;5;21;01moptimization\u001B[39;00m\u001B[38;5;21;01m.\u001B[39;00m\u001B[38;5;21;01moptimize\u001B[39;00m \u001B[38;5;28;01mimport\u001B[39;00m OptimizationAccessor\n\u001B[1;32m     71\u001B[0m \u001B[38;5;28;01mfrom\u001B[39;00m \u001B[38;5;21;01mpypsa\u001B[39;00m\u001B[38;5;21;01m.\u001B[39;00m\u001B[38;5;21;01mpf\u001B[39;00m \u001B[38;5;28;01mimport\u001B[39;00m (\n\u001B[1;32m     72\u001B[0m     calculate_B_H,\n\u001B[1;32m     73\u001B[0m     calculate_dependent_values,\n\u001B[0;32m   (...)\u001B[0m\n\u001B[1;32m     82\u001B[0m     sub_network_pf,\n\u001B[1;32m     83\u001B[0m )\n\u001B[1;32m     84\u001B[0m \u001B[38;5;28;01mfrom\u001B[39;00m \u001B[38;5;21;01mpypsa\u001B[39;00m\u001B[38;5;21;01m.\u001B[39;00m\u001B[38;5;21;01mplot\u001B[39;00m \u001B[38;5;28;01mimport\u001B[39;00m explore, iplot, plot  \u001B[38;5;66;03m# type: ignore\u001B[39;00m\n",
      "File \u001B[0;32m~/Desktop/codes-mateus/mateus-repos/Stanford_PhD/stanford_phd_env1/lib/python3.10/site-packages/pypsa/optimization/__init__.py:6\u001B[0m\n\u001B[1;32m      1\u001B[0m \u001B[38;5;66;03m#!/usr/bin/env python3\u001B[39;00m\n\u001B[1;32m      2\u001B[0m \u001B[38;5;124;03m\"\"\"\u001B[39;00m\n\u001B[1;32m      3\u001B[0m \u001B[38;5;124;03mBuild optimisation problems from PyPSA networks with Linopy.\u001B[39;00m\n\u001B[1;32m      4\u001B[0m \u001B[38;5;124;03m\"\"\"\u001B[39;00m\n\u001B[0;32m----> 6\u001B[0m \u001B[38;5;28;01mfrom\u001B[39;00m \u001B[38;5;21;01mpypsa\u001B[39;00m\u001B[38;5;21;01m.\u001B[39;00m\u001B[38;5;21;01moptimization\u001B[39;00m \u001B[38;5;28;01mimport\u001B[39;00m abstract, constraints, optimize, variables\n\u001B[1;32m      7\u001B[0m \u001B[38;5;28;01mfrom\u001B[39;00m \u001B[38;5;21;01mpypsa\u001B[39;00m\u001B[38;5;21;01m.\u001B[39;00m\u001B[38;5;21;01moptimization\u001B[39;00m\u001B[38;5;21;01m.\u001B[39;00m\u001B[38;5;21;01moptimize\u001B[39;00m \u001B[38;5;28;01mimport\u001B[39;00m create_model\n\u001B[1;32m      9\u001B[0m __all__ \u001B[38;5;241m=\u001B[39m [\n\u001B[1;32m     10\u001B[0m     \u001B[38;5;124m\"\u001B[39m\u001B[38;5;124mabstract\u001B[39m\u001B[38;5;124m\"\u001B[39m,\n\u001B[1;32m     11\u001B[0m     \u001B[38;5;124m\"\u001B[39m\u001B[38;5;124mconstraints\u001B[39m\u001B[38;5;124m\"\u001B[39m,\n\u001B[0;32m   (...)\u001B[0m\n\u001B[1;32m     14\u001B[0m     \u001B[38;5;124m\"\u001B[39m\u001B[38;5;124mcreate_model\u001B[39m\u001B[38;5;124m\"\u001B[39m,\n\u001B[1;32m     15\u001B[0m ]\n",
      "File \u001B[0;32m~/Desktop/codes-mateus/mateus-repos/Stanford_PhD/stanford_phd_env1/lib/python3.10/site-packages/pypsa/optimization/abstract.py:18\u001B[0m\n\u001B[1;32m     16\u001B[0m \u001B[38;5;28;01mimport\u001B[39;00m \u001B[38;5;21;01mpandas\u001B[39;00m \u001B[38;5;28;01mas\u001B[39;00m \u001B[38;5;21;01mpd\u001B[39;00m\n\u001B[1;32m     17\u001B[0m \u001B[38;5;28;01mimport\u001B[39;00m \u001B[38;5;21;01mxarray\u001B[39;00m \u001B[38;5;28;01mas\u001B[39;00m \u001B[38;5;21;01mxr\u001B[39;00m\n\u001B[0;32m---> 18\u001B[0m \u001B[38;5;28;01mfrom\u001B[39;00m \u001B[38;5;21;01mlinopy\u001B[39;00m \u001B[38;5;28;01mimport\u001B[39;00m LinearExpression, QuadraticExpression, merge\n\u001B[1;32m     20\u001B[0m \u001B[38;5;28;01mfrom\u001B[39;00m \u001B[38;5;21;01mpypsa\u001B[39;00m\u001B[38;5;21;01m.\u001B[39;00m\u001B[38;5;21;01mdescriptors\u001B[39;00m \u001B[38;5;28;01mimport\u001B[39;00m nominal_attrs\n\u001B[1;32m     22\u001B[0m \u001B[38;5;28;01mif\u001B[39;00m TYPE_CHECKING:\n",
      "File \u001B[0;32m~/Desktop/codes-mateus/mateus-repos/Stanford_PhD/stanford_phd_env1/lib/python3.10/site-packages/linopy/__init__.py:15\u001B[0m\n\u001B[1;32m     11\u001B[0m __version__ \u001B[38;5;241m=\u001B[39m version(\u001B[38;5;124m\"\u001B[39m\u001B[38;5;124mlinopy\u001B[39m\u001B[38;5;124m\"\u001B[39m)\n\u001B[1;32m     13\u001B[0m \u001B[38;5;66;03m# Note: For intercepting multiplications between xarray dataarrays, Variables and Expressions\u001B[39;00m\n\u001B[1;32m     14\u001B[0m \u001B[38;5;66;03m# we need to extend their __mul__ functions with a quick special case\u001B[39;00m\n\u001B[0;32m---> 15\u001B[0m \u001B[38;5;28;01mimport\u001B[39;00m \u001B[38;5;21;01mlinopy\u001B[39;00m\u001B[38;5;21;01m.\u001B[39;00m\u001B[38;5;21;01mmonkey_patch_xarray\u001B[39;00m\n\u001B[1;32m     16\u001B[0m \u001B[38;5;28;01mfrom\u001B[39;00m \u001B[38;5;21;01mlinopy\u001B[39;00m \u001B[38;5;28;01mimport\u001B[39;00m model, remote, types\n\u001B[1;32m     17\u001B[0m \u001B[38;5;28;01mfrom\u001B[39;00m \u001B[38;5;21;01mlinopy\u001B[39;00m\u001B[38;5;21;01m.\u001B[39;00m\u001B[38;5;21;01mconfig\u001B[39;00m \u001B[38;5;28;01mimport\u001B[39;00m options\n",
      "File \u001B[0;32m~/Desktop/codes-mateus/mateus-repos/Stanford_PhD/stanford_phd_env1/lib/python3.10/site-packages/linopy/monkey_patch_xarray.py:8\u001B[0m\n\u001B[1;32m      4\u001B[0m \u001B[38;5;28;01mfrom\u001B[39;00m \u001B[38;5;21;01mtyping\u001B[39;00m \u001B[38;5;28;01mimport\u001B[39;00m Callable, Type\n\u001B[1;32m      6\u001B[0m \u001B[38;5;28;01mfrom\u001B[39;00m \u001B[38;5;21;01mxarray\u001B[39;00m \u001B[38;5;28;01mimport\u001B[39;00m DataArray\n\u001B[0;32m----> 8\u001B[0m \u001B[38;5;28;01mfrom\u001B[39;00m \u001B[38;5;21;01mlinopy\u001B[39;00m \u001B[38;5;28;01mimport\u001B[39;00m expressions, variables\n\u001B[1;32m     11\u001B[0m \u001B[38;5;28;01mdef\u001B[39;00m \u001B[38;5;21mmonkey_patch\u001B[39m(\u001B[38;5;28mcls\u001B[39m: Type[DataArray], pass_unpatched_method: \u001B[38;5;28mbool\u001B[39m \u001B[38;5;241m=\u001B[39m \u001B[38;5;28;01mFalse\u001B[39;00m) \u001B[38;5;241m-\u001B[39m\u001B[38;5;241m>\u001B[39m Callable:\n\u001B[1;32m     12\u001B[0m     \u001B[38;5;28;01mdef\u001B[39;00m \u001B[38;5;21mdeco\u001B[39m(func):\n",
      "File \u001B[0;32m~/Desktop/codes-mateus/mateus-repos/Stanford_PhD/stanford_phd_env1/lib/python3.10/site-packages/linopy/expressions.py:46\u001B[0m\n\u001B[1;32m     43\u001B[0m \u001B[38;5;28;01mfrom\u001B[39;00m \u001B[38;5;21;01mxarray\u001B[39;00m\u001B[38;5;21;01m.\u001B[39;00m\u001B[38;5;21;01mcore\u001B[39;00m\u001B[38;5;21;01m.\u001B[39;00m\u001B[38;5;21;01mtypes\u001B[39;00m \u001B[38;5;28;01mimport\u001B[39;00m Dims\n\u001B[1;32m     44\u001B[0m \u001B[38;5;28;01mfrom\u001B[39;00m \u001B[38;5;21;01mxarray\u001B[39;00m\u001B[38;5;21;01m.\u001B[39;00m\u001B[38;5;21;01mcore\u001B[39;00m\u001B[38;5;21;01m.\u001B[39;00m\u001B[38;5;21;01mutils\u001B[39;00m \u001B[38;5;28;01mimport\u001B[39;00m Frozen\n\u001B[0;32m---> 46\u001B[0m \u001B[38;5;28;01mfrom\u001B[39;00m \u001B[38;5;21;01mlinopy\u001B[39;00m \u001B[38;5;28;01mimport\u001B[39;00m constraints, variables\n\u001B[1;32m     47\u001B[0m \u001B[38;5;28;01mfrom\u001B[39;00m \u001B[38;5;21;01mlinopy\u001B[39;00m\u001B[38;5;21;01m.\u001B[39;00m\u001B[38;5;21;01mcommon\u001B[39;00m \u001B[38;5;28;01mimport\u001B[39;00m (\n\u001B[1;32m     48\u001B[0m     LocIndexer,\n\u001B[1;32m     49\u001B[0m     as_dataarray,\n\u001B[0;32m   (...)\u001B[0m\n\u001B[1;32m     63\u001B[0m     to_polars,\n\u001B[1;32m     64\u001B[0m )\n\u001B[1;32m     65\u001B[0m \u001B[38;5;28;01mfrom\u001B[39;00m \u001B[38;5;21;01mlinopy\u001B[39;00m\u001B[38;5;21;01m.\u001B[39;00m\u001B[38;5;21;01mconfig\u001B[39;00m \u001B[38;5;28;01mimport\u001B[39;00m options\n",
      "File \u001B[0;32m~/Desktop/codes-mateus/mateus-repos/Stanford_PhD/stanford_phd_env1/lib/python3.10/site-packages/linopy/constraints.py:33\u001B[0m\n\u001B[1;32m     30\u001B[0m \u001B[38;5;28;01mfrom\u001B[39;00m \u001B[38;5;21;01mxarray\u001B[39;00m \u001B[38;5;28;01mimport\u001B[39;00m DataArray, Dataset\n\u001B[1;32m     31\u001B[0m \u001B[38;5;28;01mfrom\u001B[39;00m \u001B[38;5;21;01mxarray\u001B[39;00m\u001B[38;5;21;01m.\u001B[39;00m\u001B[38;5;21;01mcore\u001B[39;00m\u001B[38;5;21;01m.\u001B[39;00m\u001B[38;5;21;01mcoordinates\u001B[39;00m \u001B[38;5;28;01mimport\u001B[39;00m DataArrayCoordinates\n\u001B[0;32m---> 33\u001B[0m \u001B[38;5;28;01mfrom\u001B[39;00m \u001B[38;5;21;01mlinopy\u001B[39;00m \u001B[38;5;28;01mimport\u001B[39;00m expressions, variables\n\u001B[1;32m     34\u001B[0m \u001B[38;5;28;01mfrom\u001B[39;00m \u001B[38;5;21;01mlinopy\u001B[39;00m\u001B[38;5;21;01m.\u001B[39;00m\u001B[38;5;21;01mcommon\u001B[39;00m \u001B[38;5;28;01mimport\u001B[39;00m (\n\u001B[1;32m     35\u001B[0m     LocIndexer,\n\u001B[1;32m     36\u001B[0m     align_lines_by_delimiter,\n\u001B[0;32m   (...)\u001B[0m\n\u001B[1;32m     54\u001B[0m     to_polars,\n\u001B[1;32m     55\u001B[0m )\n\u001B[1;32m     56\u001B[0m \u001B[38;5;28;01mfrom\u001B[39;00m \u001B[38;5;21;01mlinopy\u001B[39;00m\u001B[38;5;21;01m.\u001B[39;00m\u001B[38;5;21;01mconfig\u001B[39;00m \u001B[38;5;28;01mimport\u001B[39;00m options\n",
      "File \u001B[0;32m~/Desktop/codes-mateus/mateus-repos/Stanford_PhD/stanford_phd_env1/lib/python3.10/site-packages/linopy/variables.py:38\u001B[0m\n\u001B[1;32m     35\u001B[0m \u001B[38;5;28;01mfrom\u001B[39;00m \u001B[38;5;21;01mxarray\u001B[39;00m\u001B[38;5;21;01m.\u001B[39;00m\u001B[38;5;21;01mcore\u001B[39;00m\u001B[38;5;21;01m.\u001B[39;00m\u001B[38;5;21;01mutils\u001B[39;00m \u001B[38;5;28;01mimport\u001B[39;00m Frozen\n\u001B[1;32m     37\u001B[0m \u001B[38;5;28;01mimport\u001B[39;00m \u001B[38;5;21;01mlinopy\u001B[39;00m\u001B[38;5;21;01m.\u001B[39;00m\u001B[38;5;21;01mexpressions\u001B[39;00m \u001B[38;5;28;01mas\u001B[39;00m \u001B[38;5;21;01mexpressions\u001B[39;00m\n\u001B[0;32m---> 38\u001B[0m \u001B[38;5;28;01mfrom\u001B[39;00m \u001B[38;5;21;01mlinopy\u001B[39;00m\u001B[38;5;21;01m.\u001B[39;00m\u001B[38;5;21;01mcommon\u001B[39;00m \u001B[38;5;28;01mimport\u001B[39;00m (\n\u001B[1;32m     39\u001B[0m     LocIndexer,\n\u001B[1;32m     40\u001B[0m     as_dataarray,\n\u001B[1;32m     41\u001B[0m     check_has_nulls,\n\u001B[1;32m     42\u001B[0m     check_has_nulls_polars,\n\u001B[1;32m     43\u001B[0m     filter_nulls_polars,\n\u001B[1;32m     44\u001B[0m     format_string_as_variable_name,\n\u001B[1;32m     45\u001B[0m     generate_indices_for_printout,\n\u001B[1;32m     46\u001B[0m     get_label_position,\n\u001B[1;32m     47\u001B[0m     has_optimized_model,\n\u001B[1;32m     48\u001B[0m     is_constant,\n\u001B[1;32m     49\u001B[0m     print_coord,\n\u001B[1;32m     50\u001B[0m     print_single_variable,\n\u001B[1;32m     51\u001B[0m     save_join,\n\u001B[1;32m     52\u001B[0m     to_dataframe,\n\u001B[1;32m     53\u001B[0m     to_polars,\n\u001B[1;32m     54\u001B[0m )\n\u001B[1;32m     55\u001B[0m \u001B[38;5;28;01mfrom\u001B[39;00m \u001B[38;5;21;01mlinopy\u001B[39;00m\u001B[38;5;21;01m.\u001B[39;00m\u001B[38;5;21;01mconfig\u001B[39;00m \u001B[38;5;28;01mimport\u001B[39;00m options\n\u001B[1;32m     56\u001B[0m \u001B[38;5;28;01mfrom\u001B[39;00m \u001B[38;5;21;01mlinopy\u001B[39;00m\u001B[38;5;21;01m.\u001B[39;00m\u001B[38;5;21;01mconstants\u001B[39;00m \u001B[38;5;28;01mimport\u001B[39;00m TERM_DIM\n",
      "File \u001B[0;32m~/Desktop/codes-mateus/mateus-repos/Stanford_PhD/stanford_phd_env1/lib/python3.10/site-packages/linopy/common.py:23\u001B[0m\n\u001B[1;32m     21\u001B[0m \u001B[38;5;28;01mfrom\u001B[39;00m \u001B[38;5;21;01mxarray\u001B[39;00m \u001B[38;5;28;01mimport\u001B[39;00m DataArray, Dataset, align, apply_ufunc, broadcast\n\u001B[1;32m     22\u001B[0m \u001B[38;5;28;01mfrom\u001B[39;00m \u001B[38;5;21;01mxarray\u001B[39;00m\u001B[38;5;21;01m.\u001B[39;00m\u001B[38;5;21;01mcore\u001B[39;00m \u001B[38;5;28;01mimport\u001B[39;00m indexing\n\u001B[0;32m---> 23\u001B[0m \u001B[38;5;28;01mfrom\u001B[39;00m \u001B[38;5;21;01mxarray\u001B[39;00m\u001B[38;5;21;01m.\u001B[39;00m\u001B[38;5;21;01mnamedarray\u001B[39;00m\u001B[38;5;21;01m.\u001B[39;00m\u001B[38;5;21;01mutils\u001B[39;00m \u001B[38;5;28;01mimport\u001B[39;00m is_dict_like\n\u001B[1;32m     25\u001B[0m \u001B[38;5;28;01mfrom\u001B[39;00m \u001B[38;5;21;01mlinopy\u001B[39;00m\u001B[38;5;21;01m.\u001B[39;00m\u001B[38;5;21;01mconfig\u001B[39;00m \u001B[38;5;28;01mimport\u001B[39;00m options\n\u001B[1;32m     26\u001B[0m \u001B[38;5;28;01mfrom\u001B[39;00m \u001B[38;5;21;01mlinopy\u001B[39;00m\u001B[38;5;21;01m.\u001B[39;00m\u001B[38;5;21;01mconstants\u001B[39;00m \u001B[38;5;28;01mimport\u001B[39;00m (\n\u001B[1;32m     27\u001B[0m     HELPER_DIMS,\n\u001B[1;32m     28\u001B[0m     SIGNS,\n\u001B[0;32m   (...)\u001B[0m\n\u001B[1;32m     31\u001B[0m     sign_replace_dict,\n\u001B[1;32m     32\u001B[0m )\n",
      "\u001B[0;31mModuleNotFoundError\u001B[0m: No module named 'xarray.namedarray'"
     ]
    }
   ],
   "execution_count": 10,
   "source": [
    "import pypsa\n",
    "import matplotlib.pyplot as plt\n",
    "## Download the file 'wecc_homework6.nc' and upload it to the 'files' folder in Google Colab\n",
    "network = pypsa.Network('wecc_homework6.nc')\n"
   ]
  },
  {
   "metadata": {
    "id": "WIHKtMNcZLfE"
   },
   "cell_type": "markdown",
   "source": "Plot a network visualization"
  },
  {
   "metadata": {
    "colab": {
     "base_uri": "https://localhost:8080/",
     "height": 475
    },
    "id": "vPdVQ_Bx0L1j",
    "outputId": "26732b02-fd08-4d17-a5e1-2b54205c1003"
   },
   "cell_type": "code",
   "outputs": [],
   "execution_count": null,
   "source": [
    "from pypsa.plot import add_legend_patches\n",
    "import cartopy.crs as ccrs\n",
    "import random\n",
    "\n",
    "carriers = network.generators.carrier.unique()\n",
    "colors = [\"#%06x\" % random.randint(0, 0xFFFFFF) for _ in carriers]\n",
    "network.madd(\"Carrier\", carriers, color=colors)\n",
    "\n",
    "fig = plt.figure()\n",
    "ax = plt.axes(projection=ccrs.EqualEarth())\n",
    "capacities = network.generators.groupby([\"bus\", \"carrier\"]).p_nom.sum()\n",
    "\n",
    "network.plot(\n",
    "    ax=ax,\n",
    "    bus_sizes=capacities / 2e5,\n",
    "    margin=0.2\n",
    ")\n",
    "\n",
    "add_legend_patches(ax, colors, carriers)"
   ]
  },
  {
   "metadata": {
    "id": "9HIavVUiUmru"
   },
   "cell_type": "markdown",
   "source": [
    "As you can see, this network is somewhat similar to problem 3 of homework 5 with the California network, but here we actually have realistic generator and load data from 2019.\n",
    "\n",
    "In this homework, we are going to go through the steps of assessing whether is makes economic sense to build an additional 230kV transmission line between California and the Southwest.\n",
    "\n",
    "To do this, we are going to compare load costs and adjusted production costs for the different regions in the model. This will help tell a story of who, if any stakeholders, profit from a new transmission line and who, if any, lose money from it.\n",
    "\n",
    "The goal of this assignment is to practice some Python coding, learn how to run a PyPSA network model and use some PyPSA functions, and analyze the results in the context of what we've learned about transmission grids.\n"
   ]
  },
  {
   "metadata": {
    "id": "XhS-lqse0L1k"
   },
   "cell_type": "markdown",
   "source": "**Problem 1** (3 points)"
  },
  {
   "metadata": {
    "id": "K8NyTs8SZBth"
   },
   "cell_type": "markdown",
   "source": [
    "Simulate a sequential DCOPF of the current given network (i.e. simulate the network operation).\n",
    "\n",
    "Relevant documentation: https://pypsa.readthedocs.io/en/latest/components.html#network\n",
    "\n",
    "a)"
   ]
  },
  {
   "metadata": {
    "colab": {
     "base_uri": "https://localhost:8080/"
    },
    "id": "RZWOCII-SE1z",
    "outputId": "920d7a0d-979e-4f22-9275-e828d35eb1f9"
   },
   "cell_type": "code",
   "outputs": [],
   "execution_count": null,
   "source": "#TODO\n"
  },
  {
   "metadata": {
    "id": "pSCwaVarZs9s"
   },
   "cell_type": "markdown",
   "source": [
    "Create a labeled time-series plot of the Locational Marginal Prices (LMPs) for the first week of January, 2019.\n",
    "\n",
    "Relevant documentation: https://pypsa.readthedocs.io/en/latest/components.html#bus\n",
    "\n",
    "b)"
   ]
  },
  {
   "metadata": {
    "id": "HwNIjRo4ZtRM"
   },
   "cell_type": "code",
   "outputs": [],
   "execution_count": null,
   "source": "#TODO\n"
  },
  {
   "metadata": {
    "id": "thxQjVrg5gac"
   },
   "cell_type": "markdown",
   "source": "Run the code block below to get a visualization of the dispatch by fuel type for the first week"
  },
  {
   "metadata": {
    "id": "dZQQXBqz0L1l"
   },
   "cell_type": "code",
   "outputs": [],
   "execution_count": null,
   "source": [
    "#Dispatch plot of first week\n",
    "nhours = 24*7\n",
    "fig, ax = plt.subplots(figsize=(20, 5))\n",
    "p_by_carrier = network.generators_t.p.groupby(network.generators.carrier, axis=1).sum().div(1e3).iloc[:nhours]\n",
    "p_by_carrier.plot(\n",
    "    kind=\"area\",\n",
    "    ax=ax,\n",
    "    linewidth=0,\n",
    "    cmap=\"tab20b\",\n",
    ")\n",
    "ax.legend(ncol=5, loc=\"upper left\", frameon=False)\n",
    "ax.set_ylabel(\"GW\")"
   ]
  },
  {
   "metadata": {
    "id": "MdAiyv4T0L1l"
   },
   "cell_type": "markdown",
   "source": [
    "**Problem 2** (4 points)\n",
    "Next we will calculate Load Costs and Adjusted Production Cost (APC) for California and then the rest of WECC prior to expanding the line. Report all costs in Millions of Dollars.\n",
    "\n",
    "\n",
    "You will write the code to calculate load costs yourself, but we provide the APC model. If you're curious, the model is below:\n",
    "\\begin{align*}\n",
    "\\text{Regional Adjusted Production Cost (APC)} &= \\text{Production Cost} + \\text{Purchases} - \\text{Sales} &\\\\\n",
    "\\text{Production Cost} &= \\sum_t^T \\sum_g^G ( \\text{P}_{g,t} \\times \\text{O}_{g,t} ) &\\\\\n",
    "\\text{Purchases} &= \\sum_t^T (\\text{Imports}_t \\times \\text{Load Weighted LMP}_t) &\\\\\n",
    "\\text{Sales} &= \\sum_t^T (\\text{Exports}_t \\times \\text{Generation Weighted LMP}_t) &\\\\\n",
    "\\text{Load Weighted LMP}_t &= \\frac{\\sum_{n} \\text{Load Costs}_{n,t} }{\\sum_{n} \\text{Load}_{n,t}}  \\quad \\forall \\quad n \\in region &\\\\\n",
    "\\text{Generation Weighted LMP}_t &= \\frac{\\sum_{n} \\text{Generation Revenue}_{n,t} }{\\sum_{n} \\text{Generation}_{n,t} } \\quad \\forall \\quad n \\in region &\\\\\n",
    "\\quad &\\\\\n",
    "\\text{where} \\quad\n",
    "\\text{P: Active power generation of Generator g} &\\\\\n",
    "\\text{O: Operational/Marginal Cost of Generator g} &\n",
    "\\end{align*}\n"
   ]
  },
  {
   "metadata": {
    "id": "GwyMKN3lIMWA"
   },
   "cell_type": "markdown",
   "source": [
    "First, calculate the load costs for California only, reporting one value in millions of $. You'll first write a line of code to find all load costs, then report for CA only.\n",
    "\n",
    "a)"
   ]
  },
  {
   "metadata": {
    "id": "6U5UOgng0L1m"
   },
   "cell_type": "code",
   "outputs": [],
   "execution_count": null,
   "source": [
    "# TODO: calculate load costs for CA (fill in both variables below)\n",
    "load_costs =\n",
    "load_costs_ca =\n",
    "print('Load Costs CA [millions of $]: ', load_costs_ca / 1e6)"
   ]
  },
  {
   "metadata": {
    "id": "q1ZvIFXwJ2wy"
   },
   "cell_type": "markdown",
   "source": "Run the code below to calculate APC for California:"
  },
  {
   "metadata": {
    "id": "YhdP4wkN0L1m"
   },
   "cell_type": "code",
   "outputs": [],
   "execution_count": null,
   "source": [
    "# Calculate APC for California, report one #:\n",
    "exports = network.lines_t.p0.where(network.lines_t.p0 > 0, 0) #\n",
    "imports = network.lines_t.p0.where(network.lines_t.p0 < 0, 0) * -1\n",
    "generator_production_by_node = network.generators_t.p.groupby(network.generators.bus, axis=1).sum()\n",
    "# Production Cost\n",
    "production_costs = network.generators_t.p * network.generators.marginal_cost\n",
    "production_costs_ca = production_costs.groupby(network.generators.bus, axis=1).sum()['CA']\n",
    "\n",
    "# Purchases\n",
    "load_weighted_lmp_ca = load_costs['CA'] / network.loads_t.p_set['CA']\n",
    "generator_revenue_ca = generator_production_by_node['CA'] * network.buses_t.marginal_price['CA']\n",
    "gen_weighted_lmp_ca = generator_revenue_ca / generator_production_by_node['CA']\n",
    "\n",
    "purchases_ca = imports['CA-PNW'] * load_weighted_lmp_ca + imports['CA-SW'] * load_weighted_lmp_ca\n",
    "sales_ca = exports['CA-PNW'] * gen_weighted_lmp_ca + exports['CA-SW'] * gen_weighted_lmp_ca\n",
    "\n",
    "APC_ca = production_costs_ca + purchases_ca - sales_ca\n",
    "\n",
    "print(\"Adjusted Production Cost: \", APC_ca.sum() / 1e6)\n",
    "print(\"Production Cost: \", production_costs_ca.sum() / 1e6)\n",
    "print(\"Sales: \", sales_ca.sum() / 1e6)\n",
    "print(\"Purchases: \",purchases_ca.sum() / 1e6)\n"
   ]
  },
  {
   "metadata": {
    "id": "WOpARYzS0L1n"
   },
   "cell_type": "markdown",
   "source": [
    "Next, calculate load costs for WECC *not including California* prior to expanding the line.\n",
    "\n",
    "b)\n"
   ]
  },
  {
   "metadata": {
    "id": "zTvv5Fax0L1n"
   },
   "cell_type": "code",
   "outputs": [],
   "execution_count": null,
   "source": [
    "# TODO: calculate load Costs for Non-CA, report one number in millions of $:\n",
    "load_costs_wecc =\n",
    "print('Load Costs [millions of $]: ', load_costs_wecc / 1e6)\n"
   ]
  },
  {
   "metadata": {
    "id": "45x18Vb5KcKY"
   },
   "cell_type": "markdown",
   "source": "Run the code below to calculate APC for WECC not including California:"
  },
  {
   "metadata": {
    "id": "fRndP9cg0L1n"
   },
   "cell_type": "code",
   "outputs": [],
   "execution_count": null,
   "source": [
    "#Calculate APC for Non-CA:\n",
    "# Production Cost\n",
    "production_costs = network.generators_t.p * network.generators.marginal_cost\n",
    "production_costs_wecc = production_costs.groupby(network.generators.bus, axis=1).sum()[['PNW','SW']].sum().sum()\n",
    "\n",
    "# Purchases\n",
    "load_weighted_lmp_wecc = load_costs[['PNW','SW']].sum(axis=1) / network.loads_t.p_set[['PNW','SW']].sum(axis=1)\n",
    "generator_revenue_wecc = generator_production_by_node[['PNW','SW']] * network.buses_t.marginal_price[['PNW','SW']]\n",
    "generator_revenue_wecc = generator_revenue_wecc.sum(axis=1)\n",
    "gen_weighted_lmp_wecc = generator_revenue_wecc / generator_production_by_node[['PNW','SW']].sum(axis=1)\n",
    "\n",
    "purchases_wecc = exports['CA-PNW'] * load_weighted_lmp_wecc + exports['CA-SW'] * load_weighted_lmp_wecc\n",
    "sales_wecc = imports['CA-PNW'] * gen_weighted_lmp_wecc + imports['CA-SW'] * gen_weighted_lmp_wecc\n",
    "\n",
    "APC_wecc = production_costs_wecc + purchases_wecc.sum() - sales_wecc.sum()\n",
    "\n",
    "print(\"Adjusted Production Cost: \", APC_wecc.sum() / 1e6)\n",
    "print(\"Production Cost: \", production_costs_wecc.sum() / 1e6)\n",
    "print(\"Sales: \", sales_wecc.sum() / 1e6)\n",
    "print(\"Purchases: \",purchases_wecc.sum() / 1e6)"
   ]
  },
  {
   "metadata": {
    "id": "mV9Nf1p_0L1o"
   },
   "cell_type": "markdown",
   "source": [
    "**Problem 3** (3 points) Add the line to the network and re-simulate the network.\n",
    "\n",
    "a)"
   ]
  },
  {
   "metadata": {
    "id": "ri5mtWH30L1o"
   },
   "cell_type": "code",
   "outputs": [],
   "execution_count": null,
   "source": [
    "line_name = \"CA-SW_newline\"\n",
    "bus0 = 'CA'\n",
    "bus1 = 'SW'\n",
    "reactance = 0.1 # Ohm\n",
    "transfer_capacity = 2000 # MW (s_nom)"
   ]
  },
  {
   "metadata": {
    "id": "Atuy7f560L1p"
   },
   "cell_type": "code",
   "outputs": [],
   "execution_count": null,
   "source": [
    "# TODO: Add the line by filling in the missing parameters here:\n",
    "network.add(\n",
    "    \"Line\",\n",
    "    line_name,\n",
    "    # insert,\n",
    "    # insert,\n",
    "    # insert,\n",
    "    # insert,\n",
    ")"
   ]
  },
  {
   "metadata": {
    "id": "B57LoPisPlc9"
   },
   "cell_type": "markdown",
   "source": "b)"
  },
  {
   "metadata": {
    "id": "YZbXWlBq0L1q"
   },
   "cell_type": "code",
   "outputs": [],
   "execution_count": null,
   "source": "#TODO: simulate network with new line\n"
  },
  {
   "metadata": {
    "id": "xjwpArRkMUIE"
   },
   "cell_type": "markdown",
   "source": "**Problem 4** (4 points)"
  },
  {
   "metadata": {
    "id": "Wkp4JJzu0L1q"
   },
   "cell_type": "markdown",
   "source": [
    "Calculate the new load costs and APC for California\n",
    "\n",
    "a)"
   ]
  },
  {
   "metadata": {
    "id": "9ppLCXes0L1q"
   },
   "cell_type": "code",
   "outputs": [],
   "execution_count": null,
   "source": [
    "#TODO - set load_costs and load_costs_ca_new variables\n",
    "load_costs =\n",
    "load_costs_ca_new  =\n",
    "print('Load Costs CA [millions of $]: ', load_costs_ca_new / 1e6)\n"
   ]
  },
  {
   "metadata": {
    "id": "2I5cqMhM0L1r"
   },
   "cell_type": "code",
   "outputs": [],
   "execution_count": null,
   "source": [
    "# Calculate APC for California, report one #:\n",
    "# Production Cost\n",
    "exports = network.lines_t.p0.where(network.lines_t.p0 > 0, 0) #\n",
    "imports = network.lines_t.p0.where(network.lines_t.p0 < 0, 0) * -1\n",
    "generator_production_by_node = network.generators_t.p.groupby(network.generators.bus, axis=1).sum()\n",
    "production_costs = network.generators_t.p * network.generators.marginal_cost\n",
    "production_costs_ca = production_costs.groupby(network.generators.bus, axis=1).sum()['CA']\n",
    "\n",
    "# Purchases\n",
    "load_weighted_lmp_ca = load_costs['CA'] / network.loads_t.p_set['CA']\n",
    "generator_revenue_ca = generator_production_by_node['CA'] * network.buses_t.marginal_price['CA']\n",
    "gen_weighted_lmp_ca = generator_revenue_ca / generator_production_by_node['CA']\n",
    "\n",
    "purchases_ca = imports['CA-PNW'] * load_weighted_lmp_ca + imports['CA-SW'] * load_weighted_lmp_ca + imports['CA-SW_newline'] * load_weighted_lmp_ca\n",
    "sales_ca = exports['CA-PNW'] * gen_weighted_lmp_ca + exports['CA-SW'] * gen_weighted_lmp_ca + exports['CA-SW_newline'] * gen_weighted_lmp_ca\n",
    "\n",
    "APC_ca_new = production_costs_ca + purchases_ca - sales_ca\n",
    "\n",
    "print(\"Adjusted Production Cost: \", APC_ca_new.sum() / 1e6)\n",
    "print(\"Production Cost: \", production_costs_ca.sum() / 1e6)\n",
    "print(\"Sales: \", sales_ca.sum() / 1e6)\n",
    "print(\"Purchases: \",purchases_ca.sum() / 1e6)"
   ]
  },
  {
   "metadata": {
    "id": "iPMzuY8X0L1r"
   },
   "cell_type": "markdown",
   "source": [
    "Repeat for non-CA WECC load costs and APC\n",
    "\n",
    "b)"
   ]
  },
  {
   "metadata": {
    "id": "Zt-oXlYB0L1r"
   },
   "cell_type": "code",
   "outputs": [],
   "execution_count": null,
   "source": [
    "# TODO: calculate load Costs for Non-CA, report one number in millions of $:\n",
    "load_costs_wecc_new =\n",
    "print('Load Costs [millions of $]: ', load_costs_wecc / 1e6)\n"
   ]
  },
  {
   "metadata": {
    "id": "89vgU78p0L1s"
   },
   "cell_type": "code",
   "outputs": [],
   "execution_count": null,
   "source": [
    "#Calculate APC for Non-CA:\n",
    "# Production Cost\n",
    "production_costs = network.generators_t.p * network.generators.marginal_cost\n",
    "production_costs_wecc = production_costs.groupby(network.generators.bus, axis=1).sum()[['PNW','SW']].sum().sum()\n",
    "\n",
    "# Purchases\n",
    "load_weighted_lmp_wecc = load_costs[['PNW','SW']].sum(axis=1) / network.loads_t.p_set[['PNW','SW']].sum(axis=1)\n",
    "generator_revenue_wecc = generator_production_by_node[['PNW','SW']] * network.buses_t.marginal_price[['PNW','SW']]\n",
    "generator_revenue_wecc = generator_revenue_wecc.sum(axis=1)\n",
    "gen_weighted_lmp_wecc = generator_revenue_wecc / generator_production_by_node[['PNW','SW']].sum(axis=1)\n",
    "\n",
    "purchases_wecc = exports['CA-PNW'] * load_weighted_lmp_wecc + exports['CA-SW'] * load_weighted_lmp_wecc + exports['CA-SW_newline'] * load_weighted_lmp_wecc\n",
    "sales_wecc = imports['CA-PNW'] * gen_weighted_lmp_wecc + imports['CA-SW'] * gen_weighted_lmp_wecc + imports['CA-SW_newline'] * gen_weighted_lmp_wecc\n",
    "\n",
    "APC_wecc_new = production_costs_wecc + purchases_wecc.sum() - sales_wecc.sum()\n",
    "\n",
    "print(\"Adjusted Production Cost: \", APC_wecc_new.sum() / 1e6)\n",
    "print(\"Production Cost: \", production_costs_wecc.sum() / 1e6)\n",
    "print(\"Sales: \", sales_wecc.sum() / 1e6)\n",
    "print(\"Purchases: \",purchases_wecc.sum() / 1e6)"
   ]
  },
  {
   "metadata": {
    "id": "HK33FZ3m0L1s"
   },
   "cell_type": "markdown",
   "source": [
    "Problem 5 (5 points) Now we'll conduct Cost Benefit Analysis to determine if the transmission line should be built. First, we assume we only care about the benefits within California.\n",
    "\n",
    "Here are some assumptions:\n",
    "- Weight 70\\% benefits of load and 30\\% benefits of APC\n",
    "- Assume the same savings patterns occur over the lifetime of the transmission line\n",
    "- Assume the capital cost of the transmission line is incurred overnight and there is no fixed or variable O&M for the line over its lifetime.\n",
    "- Interest rate 5\\%\n",
    "- Transmission line has assumed lifetime of 50 years & overnight capital cost of 1e9\n"
   ]
  },
  {
   "metadata": {
    "id": "puoi7u02LM8U"
   },
   "cell_type": "markdown",
   "source": "We will provide the function for annualized cost:"
  },
  {
   "metadata": {
    "id": "Sd_yBeEc0L1s"
   },
   "cell_type": "code",
   "outputs": [],
   "execution_count": null,
   "source": [
    "#Calculate Annualized Cost of the line:\n",
    "def annualized_cost(capital_cost, lifetime, interest_rate):\n",
    "    return capital_cost * (interest_rate * (1 + interest_rate) ** lifetime) / ((1 + interest_rate) ** lifetime - 1)"
   ]
  },
  {
   "metadata": {
    "id": "gFldQx_NLawM"
   },
   "cell_type": "markdown",
   "source": [
    "To find the cost benefit for CA, first calculate savings between the no new line and new line case for load costs and APC, then apply the weightings provided above to those savings. Call the annualized cost function from above to find \"cost_annual\" and calculate the overall cost benefit.\n",
    "\n",
    "Each \"savings\" variable should be a scalar.\n",
    "\n",
    "a)"
   ]
  },
  {
   "metadata": {
    "id": "cW05hoz30L1s"
   },
   "cell_type": "code",
   "outputs": [],
   "execution_count": null,
   "source": [
    "#TODO: Cost Benefit Analysis\n",
    "savings_ca_load =\n",
    "savings_apc_ca =\n",
    "economic_benefit_ca =\n",
    "print(\"Load Savings CA: \", savings_ca_load / 1e6)\n",
    "print(\"APC Savings CA: \", savings_apc_ca/ 1e6)\n",
    "print(\"Annual Economic Benefit CA: \", economic_benefit_ca / 1e6)\n",
    "\n",
    "cost_annual =\n",
    "cost_benefit_ca = (cost_annual /1e6) + (economic_benefit_ca / 1e6)\n",
    "print(\"Cost-Benefit CA: \", cost_benefit_ca)\n"
   ]
  },
  {
   "metadata": {
    "id": "ct0TNpjfQAID"
   },
   "cell_type": "markdown",
   "source": [
    "Comment on what this means for CA. Negative values indicated decreases in costs.\n",
    "\n",
    "b)"
   ]
  },
  {
   "metadata": {
    "id": "fEQWjWyRQLVg"
   },
   "cell_type": "code",
   "outputs": [],
   "execution_count": null,
   "source": [
    "#TODO\n",
    "#comment on results"
   ]
  },
  {
   "metadata": {
    "id": "mKitRy2A0L1t"
   },
   "cell_type": "markdown",
   "source": [
    "Now we'll analyze whether this answer changes if we include the costs/benefits of all of WECC.\n",
    "\n",
    "Run the cost benefit analysis for non-WECC buses then find the total cost benefit.\n",
    "\n",
    "c)"
   ]
  },
  {
   "metadata": {
    "id": "iSw8hz360L1t"
   },
   "cell_type": "code",
   "outputs": [],
   "execution_count": null,
   "source": [
    "#TODO: Cost Benefit Analysis:\n",
    "savings_wecc_load =\n",
    "savings_apc_wecc =\n",
    "economic_benefit_wecc =\n",
    "print(\"Load Savings WECC: \", savings_wecc_load / 1e6)\n",
    "print(\"APC Savings WECC: \", savings_apc_wecc / 1e6)\n",
    "print(\"Economic Benefit WECC: \", economic_benefit_wecc / 1e6)\n",
    "print(\"Negative Savings values indicate decrease in cost \\n\")\n",
    "\n",
    "cost_benefit_total = (cost_annual /1e6) + ((economic_benefit_wecc + economic_benefit_ca) / 1e6)\n",
    "print(\"Total System Cost-Benefit: \", cost_benefit_total)\n",
    "print(\"Total Cost increases for WECC due to increase in total production cost and load costs.\")"
   ]
  },
  {
   "metadata": {
    "id": "VdLhFnO10L1t"
   },
   "cell_type": "markdown",
   "source": [
    "Comment on these results. What does this say overall about adding a new line?\n",
    "\n",
    "d)"
   ]
  },
  {
   "metadata": {
    "id": "Mam1DCZ_Q1ys"
   },
   "cell_type": "code",
   "outputs": [],
   "execution_count": null,
   "source": "#TODO comment on all results"
  },
  {
   "metadata": {
    "id": "3QP5equa0L1u"
   },
   "cell_type": "markdown",
   "source": [
    "**Problem 6** (1 point) In the above method we used production cost simulation to estimate the benefits of the transmission expansion.\n",
    "Now, we are going to let PyPSA-USA determine the optimal capacity of the line via use capacity expansion methods.\n",
    "\n",
    " You can assume linear relationship between capital cost of transmission and nominal capacity of the line.\n",
    "\n",
    "What is the optimal capacity of the line? (There's just one line of code you have to add here.) Notice the s_nom_extendable feature; this allows the nominal complex power of the line to expand."
   ]
  },
  {
   "metadata": {
    "id": "mNsfdv9mN70X"
   },
   "cell_type": "code",
   "outputs": [],
   "execution_count": null,
   "source": [
    "\n",
    "network = pypsa.Network('wecc_homework6.nc')\n",
    "network.add(\n",
    "    \"Line\",\n",
    "    line_name,\n",
    "    bus0=bus0,\n",
    "    bus1=bus1,\n",
    "    x=reactance,\n",
    "    s_nom=0,\n",
    "    capital_cost= cost_annual / transfer_capacity,\n",
    "    s_nom_extendable=True,\n",
    ")"
   ]
  },
  {
   "metadata": {
    "id": "-WeFCjc_N99_"
   },
   "cell_type": "markdown",
   "source": "Rerun the network simulation:"
  },
  {
   "metadata": {
    "id": "0O8nus_CODyF"
   },
   "cell_type": "code",
   "outputs": [],
   "execution_count": null,
   "source": "#TODO\n"
  },
  {
   "metadata": {
    "id": "mSn_SVlIOFU_"
   },
   "cell_type": "markdown",
   "source": "Run the code below to print out all of the line capacities:"
  },
  {
   "metadata": {
    "id": "vqAFZ8vaOK6A"
   },
   "cell_type": "code",
   "outputs": [],
   "execution_count": null,
   "source": "network.lines.s_nom_opt"
  },
  {
   "metadata": {
    "id": "-EfYIh0RV4J2"
   },
   "cell_type": "code",
   "outputs": [],
   "execution_count": null,
   "source": ""
  },
  {
   "metadata": {},
   "cell_type": "code",
   "outputs": [],
   "execution_count": null,
   "source": ""
  }
 ],
 "metadata": {
  "colab": {
   "provenance": []
  },
  "kernelspec": {
   "display_name": "pypsa-usa",
   "language": "python",
   "name": "python3"
  },
  "language_info": {
   "codemirror_mode": {
    "name": "ipython",
    "version": 3
   },
   "file_extension": ".py",
   "mimetype": "text/x-python",
   "name": "python",
   "nbconvert_exporter": "python",
   "pygments_lexer": "ipython3",
   "version": "3.11.6"
  }
 },
 "nbformat": 4,
 "nbformat_minor": 0
}
