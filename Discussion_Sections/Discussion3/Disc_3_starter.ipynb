{
 "cells": [
  {
   "cell_type": "markdown",
   "metadata": {},
   "source": [
    "[![Open In Colab](https://colab.research.google.com/assets/colab-badge.svg)](https://colab.research.google.com/github/Stanford-Sustainable-Systems-Lab/CEE_272R_spring_2025/blob/main/Discussion_Sections/Discussion3/Disc_3_starter.ipynb)\n"
   ]
  },
  {
   "cell_type": "code",
   "execution_count": 1,
   "metadata": {},
   "outputs": [],
   "source": [
    "import numpy as np\n",
    "import matplotlib.pyplot as plt\n",
    "import cvxpy as cp"
   ]
  },
  {
   "attachments": {},
   "cell_type": "markdown",
   "metadata": {},
   "source": [
    "## CVXPY Syntax"
   ]
  },
  {
   "attachments": {},
   "cell_type": "markdown",
   "metadata": {},
   "source": [
    "### Variables"
   ]
  },
  {
   "attachments": {},
   "cell_type": "markdown",
   "metadata": {},
   "source": [
    "Decision variables are defined similar to Numpy arrays and must be defined using the cp.Variable function. Constant data can be defined as usual (with Numpy array)."
   ]
  },
  {
   "cell_type": "code",
   "execution_count": 2,
   "metadata": {},
   "outputs": [],
   "source": [
    "#e.g.\n",
    "var_vector_1 = cp.Variable((2,))\n",
    "var_matrix_2 = cp.Variable((4,2))\n",
    "\n",
    "#define constant matrix\n",
    "A = np.ones((2,2))\n",
    "A[1,0]=3\n",
    "A[1,1]=-2"
   ]
  },
  {
   "attachments": {},
   "cell_type": "markdown",
   "metadata": {},
   "source": [
    "### Constraints"
   ]
  },
  {
   "attachments": {},
   "cell_type": "markdown",
   "metadata": {},
   "source": [
    "In Python, the problem constraints are defined as a list. Each list element is a constraint, with either <, <=, >, >=, or == operators between the two expressions. Constraints should be a function of fixed variables/data and cp variables."
   ]
  },
  {
   "cell_type": "code",
   "execution_count": 3,
   "metadata": {},
   "outputs": [],
   "source": [
    "#e.g.\n",
    "constraints = []\n",
    "constraints.append(A @ var_vector_1 <=0)\n",
    "constraints.append(var_vector_1>=0)\n"
   ]
  },
  {
   "attachments": {},
   "cell_type": "markdown",
   "metadata": {},
   "source": [
    "### Objective"
   ]
  },
  {
   "attachments": {},
   "cell_type": "markdown",
   "metadata": {},
   "source": [
    "The objective is an expression as a function of fixed variables and previously defined cp variables. Note that certain functions (such as sum and max) are cp functions, not np functions. See https://www.cvxpy.org/tutorial/functions/index.html for an exhaustive list of possible functions!"
   ]
  },
  {
   "cell_type": "code",
   "execution_count": 4,
   "metadata": {},
   "outputs": [],
   "source": [
    "#eg\n",
    "obj = cp.max(var_vector_1)"
   ]
  },
  {
   "attachments": {},
   "cell_type": "markdown",
   "metadata": {},
   "source": [
    "### Solving the problem"
   ]
  },
  {
   "attachments": {},
   "cell_type": "markdown",
   "metadata": {},
   "source": [
    "To solve the optimization problem, you first create a cp Problem object, then call the function \"solve\"."
   ]
  },
  {
   "cell_type": "code",
   "execution_count": 5,
   "metadata": {},
   "outputs": [
    {
     "data": {
      "text/plain": [
       "0.0"
      ]
     },
     "execution_count": 5,
     "metadata": {},
     "output_type": "execute_result"
    }
   ],
   "source": [
    "opt_val = cp.Problem(cp.Minimize(obj), constraints)\n",
    "opt_val.solve()\n"
   ]
  },
  {
   "attachments": {},
   "cell_type": "markdown",
   "metadata": {},
   "source": [
    "### DCP Rules"
   ]
  },
  {
   "attachments": {},
   "cell_type": "markdown",
   "metadata": {},
   "source": [
    "CVXPY ensures that the objective and constraints are convex by checking them against a set of disciplined convex programming (DCP) rules. If your problem is not convex, you're not going to get around the DCP rules. However, sometimes the problem is formulated in a non-DCP way and can be rewritten."
   ]
  },
  {
   "attachments": {},
   "cell_type": "markdown",
   "metadata": {},
   "source": [
    "### Reporting Results"
   ]
  },
  {
   "attachments": {},
   "cell_type": "markdown",
   "metadata": {},
   "source": [
    "To report optimal value and variable results, use \"variable.value\" syntax. Remember that the optimal value is of the function you're tryint to minimize, which is different from the optimal values of the decision variables."
   ]
  },
  {
   "cell_type": "code",
   "execution_count": 6,
   "metadata": {},
   "outputs": [
    {
     "name": "stdout",
     "output_type": "stream",
     "text": [
      "0.0\n",
      "[0. 0.]\n"
     ]
    }
   ],
   "source": [
    "print(opt_val.value)\n",
    "print(var_vector_1.value)"
   ]
  },
  {
   "attachments": {},
   "cell_type": "markdown",
   "metadata": {},
   "source": [
    "## CVXPY Example"
   ]
  },
  {
   "attachments": {},
   "cell_type": "markdown",
   "metadata": {},
   "source": [
    "\n",
    "$ \\textrm{minimize} ~c^T x\\\\$\n",
    "$\\textrm{s.t.}\\hspace{2.5em} Ax\\leq b \\\\$\n",
    "\n",
    "Given $A \\in \\mathbb{R}^{m \\times n}, x \\in \\mathbb{R}^{n}, c \\in \\mathbb{R}^{n} , b \\in \\mathbb{R}^{m} , m=15,  n=10 $, write a program to solve this problem. Print out the optimal value and value of x."
   ]
  },
  {
   "attachments": {},
   "cell_type": "markdown",
   "metadata": {},
   "source": [
    "Taken from: https://www.cvxpy.org/examples/basic/linear_program.html"
   ]
  },
  {
   "cell_type": "code",
   "execution_count": 7,
   "metadata": {},
   "outputs": [],
   "source": [
    "# Generate a random non-trivial linear program.\n",
    "m = 15\n",
    "n = 10\n",
    "\n",
    "s0 = np.random.randn(m)\n",
    "lamb0 = np.maximum(-s0, 0)\n",
    "\n",
    "x0 = np.random.randn(n)\n",
    "A = np.random.randn(m, n)\n",
    "b = A @ x0 \n",
    "c = -A.T @ lamb0\n",
    "\n",
    "# Define and solve the CVXPY problem.\n",
    "\n",
    "\n"
   ]
  },
  {
   "cell_type": "markdown",
   "metadata": {},
   "source": [
    "## Optimizing the Control of Chargers in a Workplace Parking Lot"
   ]
  },
  {
   "cell_type": "markdown",
   "metadata": {},
   "source": [
    "Imagine you are tasked with optimizing the EV chargers at a workplace parking lot. Assume the scenario involves three electric vehicles parked at different times throughout the day. You know each vehicle's state of charge ($SOC_0$) upon arrival, their battery capacity (Batt_c), and the times they arrive ($t_0$) and depart ($t_f$):\n",
    "\n",
    "- Car A: $SOC$ at arrival: 40% ($SOC_0^A$ = 0.4), Battery capacity ($Batt_c^A$): 75 kWh, Arrival ($t_0^A$): 9 AM, Departure ($t_f^A$): 2 PM\n",
    "- Car B: $SOC$ at arrival: 35% ($SOC_0^B$ = 0.35), Battery capacity ($Batt_c^B$): 64 kWh, Arrival ($t_0^B$): 10 AM, Departure ($t_f^B$): 3 PM\n",
    "- Car C: SOC at arrival: 25% ($SOC_0^C$ = 0.25), Battery capacity ($Batt_c^C$): 58 kWh, Arrival ($t_0^C$): 11 AM, Departure ($t_f^C$): 6 PM\n",
    "\n",
    "\n",
    "The parking lot uses a Time-of-Use (TOU) tariff as follows:\n",
    "| Energy Rates              | Price |\n",
    "| :---------------- | ----: |\n",
    "| Energy Use Peak Price (12:30 am to 6pm) | $ \\$0.43/kWh$ |\n",
    "| Energy Use Off-Peak Price  | $\\$0.20/kWh$ |\n",
    "| Demand rate price (all time) | $\\$15/kW$ |\n",
    "\n",
    "The lot is equipped with Level 2 (L2) chargers that has a maximum charging rate of 20 kW. Assuming that we aim to charge all vehicles to their maximum SOC and the data is discretized at 30-minute intervals ($\\Delta t = 0.5$). Please, answer the following questions.\n"
   ]
  },
  {
   "cell_type": "markdown",
   "metadata": {},
   "source": [
    "### Setting the problem in the baseline case"
   ]
  },
  {
   "cell_type": "code",
   "execution_count": 8,
   "metadata": {},
   "outputs": [],
   "source": [
    "delta_t = 1/2 #time step (30 minutes)\n",
    "timesteps = 48 #24 hours\n",
    "## Initial SOC for each vehicle\n",
    "soc_0a = 0.4 #initial state of charge of battery a\n",
    "soc_0b = 0.35 #initial state of charge of battery b\n",
    "soc_0c = 0.25 #initial state of charge of battery c\n",
    "## Desired final SOC (100%)\n",
    "desired_soc_f = 1 #desired final state of charge of battery \n",
    "## EV batt capacity\n",
    "batt_cap_a = 75 #battery capacity of battery a\n",
    "batt_cap_b = 64 #battery capacity of battery b\n",
    "batt_cap_c = 58 #battery capacity of battery c\n",
    "## Initial and final time for each vehicle\n",
    "t_0a = 9\n",
    "t_fa = 14\n",
    "t_0b = 10\n",
    "t_fb = 15\n",
    "t_0c = 11\n",
    "t_fc = 18"
   ]
  },
  {
   "cell_type": "markdown",
   "metadata": {},
   "source": [
    "We can obtain the energy demand for each car by solving \n",
    "$E_{demand} = (SOC_f^C-SOC_0^C) \\times Batt_c$"
   ]
  },
  {
   "cell_type": "code",
   "execution_count": 9,
   "metadata": {},
   "outputs": [],
   "source": [
    "energy_demand_a = (desired_soc_f - soc_0a)*batt_cap_a\n",
    "energy_demand_b = (desired_soc_f - soc_0b)*batt_cap_b\n",
    "energy_demand_c = (desired_soc_f - soc_0c)*batt_cap_c"
   ]
  },
  {
   "cell_type": "markdown",
   "metadata": {},
   "source": [
    "If we use the maximum power capacity of the L2 chargers, we can charge all the vehicles during their initial hours parked at the workplace. However, this might not be the most cost-effective strategy if we aim to minimize energy costs and reduce impact on the electrical grid. These considerations could provide valuable insights for your final projects. The baseline scenario will be outlined as follows"
   ]
  },
  {
   "cell_type": "code",
   "execution_count": 10,
   "metadata": {},
   "outputs": [],
   "source": [
    "# Duration of charging assuming max charger power:\n",
    "l2_max_power = 20\n",
    "l2_max_in_30_min = l2_max_power*delta_t # 10kWh\n",
    "duration_charging_a = np.ceil(energy_demand_a/l2_max_in_30_min)  \n",
    "duration_charging_b = np.ceil(energy_demand_b/l2_max_in_30_min)  \n",
    "duration_charging_c = np.ceil(energy_demand_c/l2_max_in_30_min)  "
   ]
  },
  {
   "cell_type": "code",
   "execution_count": 11,
   "metadata": {},
   "outputs": [],
   "source": [
    "#index of the time step corresponding to the initial time\n",
    "ind_a = int(t_0a/delta_t) \n",
    "ind_b = int(t_0b/delta_t)\n",
    "ind_c = int(t_0c/delta_t)\n",
    "#create baseline profiles\n",
    "power_profile_a = np.zeros(timesteps)\n",
    "power_profile_a[ind_a:ind_a+int(duration_charging_a)] = l2_max_power\n",
    "power_profile_b = np.zeros(timesteps)\n",
    "power_profile_b[ind_b:ind_b+int(duration_charging_b)] = l2_max_power\n",
    "power_profile_c = np.zeros(timesteps)\n",
    "power_profile_c[ind_c:ind_c+int(duration_charging_c)] = l2_max_power"
   ]
  },
  {
   "cell_type": "code",
   "execution_count": 12,
   "metadata": {},
   "outputs": [],
   "source": [
    "# Duration of car plugged in:\n",
    "duration_plugged_in_a = (t_fa -  t_0a)/delta_t\n",
    "duration_plugged_in_b = (t_fb -  t_0b)/delta_t\n",
    "duration_plugged_in_c = (t_fc -  t_0c)/delta_t"
   ]
  },
  {
   "cell_type": "code",
   "execution_count": 13,
   "metadata": {},
   "outputs": [],
   "source": [
    "# create vector with time plugged in\n",
    "time_plugged_a = np.full(timesteps, np.nan) \n",
    "time_plugged_a[ind_a:ind_a+int(duration_plugged_in_a)] = 0 \n",
    "time_plugged_b = np.full(timesteps, np.nan) \n",
    "time_plugged_b[ind_b:ind_b+int(duration_plugged_in_b)] = 0\n",
    "time_plugged_c = np.full(timesteps, np.nan) \n",
    "time_plugged_c[ind_c:ind_c+int(duration_plugged_in_c)] = 0"
   ]
  },
  {
   "cell_type": "markdown",
   "metadata": {},
   "source": [
    "### Plotting baseline case"
   ]
  },
  {
   "cell_type": "code",
   "execution_count": 14,
   "metadata": {},
   "outputs": [],
   "source": [
    "def plot_vehicle_profiles(power_profiles, time_plugged, day_timesteps, colors, control_case):\n",
    "    fig, axs = plt.subplots(len(power_profiles)+1, 1, figsize=(10, 8))  # 2x2 grid of axes\n",
    "    fig.suptitle('Power profiles - {}'.format(control_case))\n",
    "    for pp, tp, i in zip(power_profiles, time_plugged, range(len(power_profiles))):\n",
    "        axs[i].plot(day_timesteps, pp, color = colors[i], label='Power profile')\n",
    "        axs[i].scatter(day_timesteps, tp, color = \"black\", label='Time plugged in')\n",
    "        axs[i].legend()\n",
    "        axs[i].grid()\n",
    "        axs[i].set_ylabel('Power (kW)')\n",
    "        axs[i].set_xlabel('Time (h)')\n",
    "    axs[-1].plot(day_timesteps, np.sum(power_profiles, axis=0), color = \"black\", label='Parking Lot - Total Power profile')\n",
    "    axs[-1].legend()\n",
    "    axs[-1].grid()\n",
    "    plt.tight_layout()"
   ]
  },
  {
   "cell_type": "code",
   "execution_count": 15,
   "metadata": {},
   "outputs": [
    {
     "data": {
      "image/png": "[encoded data removed]",
      "text/plain": [
       "<Figure size 1000x800 with 4 Axes>"
      ]
     },
     "metadata": {},
     "output_type": "display_data"
    }
   ],
   "source": [
    "power_profiles = [power_profile_a, power_profile_b, power_profile_c]\n",
    "time_plugged = [time_plugged_a, time_plugged_b, time_plugged_c]\n",
    "colors = [\"blue\", \"red\", \"green\"]\n",
    "day_timesteps = np.arange(0, timesteps/2, 0.5)\n",
    "plot_vehicle_profiles(power_profiles, time_plugged, day_timesteps, colors, control_case=\"Baseline\")"
   ]
  },
  {
   "cell_type": "markdown",
   "metadata": {},
   "source": [
    "## (a) How can we optimize vehicle charging to minimize energy use costs?"
   ]
  },
  {
   "cell_type": "markdown",
   "metadata": {},
   "source": [
    "### Calculate Optimal Energy Use Costs and Plot New Power Profiles and Total Power"
   ]
  },
  {
   "cell_type": "code",
   "execution_count": 16,
   "metadata": {},
   "outputs": [],
   "source": [
    "## Create price vector for the day\n",
    "# TODO"
   ]
  },
  {
   "cell_type": "code",
   "execution_count": 17,
   "metadata": {},
   "outputs": [],
   "source": [
    "## Plot price vector for the day\n",
    "# TODO"
   ]
  },
  {
   "cell_type": "code",
   "execution_count": 18,
   "metadata": {},
   "outputs": [],
   "source": [
    "# Create Variables\n",
    "# TODO\n",
    "# Create objective function\n",
    "# TODO\n",
    "\n",
    "# Create constraints\n",
    "constraints = [\n",
    "    # Vehicle A \n",
    "    # TODO\n",
    "    # Vehicle B \n",
    "    # TODO\n",
    "    # Vehicle C\n",
    "    # TODO\n",
    "    # Total power\n",
    "    # TODO\n",
    "]\n",
    "#problem = cp.Problem(obj, constraints)"
   ]
  },
  {
   "cell_type": "code",
   "execution_count": 19,
   "metadata": {},
   "outputs": [],
   "source": [
    "# Solve problem\n",
    "# TODO"
   ]
  },
  {
   "cell_type": "code",
   "execution_count": 20,
   "metadata": {},
   "outputs": [],
   "source": [
    "# Plot results\n",
    "# power_profiles = [power_a.value, power_b.value, power_c.value]\n",
    "# time_plugged = [time_plugged_a, time_plugged_b, time_plugged_c]\n",
    "# colors = [\"blue\", \"red\", \"green\"]\n",
    "# day_timesteps = np.arange(0, timesteps/2, 0.5)\n",
    "# plot_vehicle_profiles(power_profiles, time_plugged, day_timesteps, colors, control_case=\"Optimal Energy Use\")"
   ]
  },
  {
   "cell_type": "markdown",
   "metadata": {},
   "source": [
    "## (b) How can we optimize vehicle charging to minimize demand rate costs?"
   ]
  },
  {
   "cell_type": "markdown",
   "metadata": {},
   "source": [
    "### Calculate Optimal Demand Rate Costs and Plot New Power Profiles and Total Power"
   ]
  },
  {
   "cell_type": "code",
   "execution_count": 21,
   "metadata": {},
   "outputs": [],
   "source": [
    "# Create Variables\n",
    "# TODO\n",
    "# Create objective function\n",
    "# TODO\n",
    "\n",
    "# Create constraints\n",
    "constraints = [\n",
    "    # Vehicle A \n",
    "    # TODO\n",
    "    # Vehicle B \n",
    "    # TODO\n",
    "    # Vehicle C\n",
    "    # TODO\n",
    "    # Total power\n",
    "    # TODO\n",
    "]"
   ]
  },
  {
   "cell_type": "code",
   "execution_count": 22,
   "metadata": {},
   "outputs": [],
   "source": [
    "## New objective function\n",
    "#TODO"
   ]
  },
  {
   "cell_type": "code",
   "execution_count": 23,
   "metadata": {},
   "outputs": [],
   "source": [
    "# Solve problem\n",
    "#TODO"
   ]
  },
  {
   "cell_type": "code",
   "execution_count": 24,
   "metadata": {},
   "outputs": [],
   "source": [
    "# Plot results\n",
    "# power_profiles = [power_a.value, power_b.value, power_c.value]\n",
    "# time_plugged = [time_plugged_a, time_plugged_b, time_plugged_c]\n",
    "# colors = [\"blue\", \"red\", \"green\"]\n",
    "# day_timesteps = np.arange(0, timesteps/2, 0.5)\n",
    "# plot_vehicle_profiles(power_profiles, time_plugged, day_timesteps, colors, control_case=\"Optimal Demand Rate\")"
   ]
  },
  {
   "cell_type": "markdown",
   "metadata": {},
   "source": [
    "## (c) How can we optimize vehicle charging to minimize the electricity bill?"
   ]
  },
  {
   "cell_type": "markdown",
   "metadata": {},
   "source": [
    "### Calculate Optimal Electricity Bill and Plot New Power Profiles and Total Power"
   ]
  },
  {
   "cell_type": "code",
   "execution_count": 25,
   "metadata": {},
   "outputs": [],
   "source": [
    "# Create Variables\n",
    "# TODO\n",
    "# Create objective function\n",
    "# TODO\n",
    "\n",
    "# Create constraints\n",
    "constraints = [\n",
    "    # Vehicle A \n",
    "    # TODO\n",
    "    # Vehicle B \n",
    "    # TODO\n",
    "    # Vehicle C\n",
    "    # TODO\n",
    "    # Total power\n",
    "    # TODO\n",
    "]"
   ]
  },
  {
   "cell_type": "code",
   "execution_count": 26,
   "metadata": {},
   "outputs": [],
   "source": [
    "## New objective function\n",
    "#TODO "
   ]
  },
  {
   "cell_type": "code",
   "execution_count": 27,
   "metadata": {},
   "outputs": [],
   "source": [
    "# Solve problem\n",
    "#TODO"
   ]
  },
  {
   "cell_type": "code",
   "execution_count": 28,
   "metadata": {},
   "outputs": [],
   "source": [
    "# Plot results\n",
    "# power_profiles = [power_a.value, power_b.value, power_c.value]\n",
    "# time_plugged = [time_plugged_a, time_plugged_b, time_plugged_c]\n",
    "# colors = [\"blue\", \"red\", \"green\"]\n",
    "# day_timesteps = np.arange(0, timesteps/2, 0.5)\n",
    "# plot_vehicle_profiles(power_profiles, time_plugged, day_timesteps, colors, control_case=\"Optimal Electricity Bill\")"
   ]
  },
  {
   "cell_type": "markdown",
   "metadata": {},
   "source": [
    "## (d) Compare the Electricity Bills for Baseline and Optimal Charger Control"
   ]
  },
  {
   "cell_type": "markdown",
   "metadata": {},
   "source": [
    "### What was the percentage decrease in the Electricity Bill?"
   ]
  },
  {
   "cell_type": "code",
   "execution_count": 29,
   "metadata": {},
   "outputs": [],
   "source": [
    "# Solve for baseline\n",
    "#TODO"
   ]
  },
  {
   "cell_type": "code",
   "execution_count": 30,
   "metadata": {},
   "outputs": [],
   "source": [
    "# print(\"Baseline electrcity bill: $\", baseline_elec_bill)\n",
    "# print(\"Optimal electricity bill: $\", format(opt_cost, \".2f\"))\n",
    "# print(\"Savings: %\",format((baseline_elec_bill - opt_cost)/baseline_elec_bill*100,\".2f\"))"
   ]
  }
 ],
 "metadata": {
  "kernelspec": {
   "display_name": "Python 3",
   "language": "python",
   "name": "python3"
  },
  "language_info": {
   "codemirror_mode": {
    "name": "ipython",
    "version": 3
   },
   "file_extension": ".py",
   "mimetype": "text/x-python",
   "name": "python",
   "nbconvert_exporter": "python",
   "pygments_lexer": "ipython3",
   "version": "3.11.9"
  },
  "orig_nbformat": 4
 },
 "nbformat": 4,
 "nbformat_minor": 2
}
